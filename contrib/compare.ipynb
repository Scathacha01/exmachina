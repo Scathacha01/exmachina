{
 "cells": [
  {
   "cell_type": "code",
   "execution_count": null,
   "metadata": {},
   "outputs": [],
   "source": [
    "from pathlib import Path\n",
    "import pickle\n",
    "from concurrent.futures import ProcessPoolExecutor, wait\n",
    "\n",
    "from tqdm import tqdm\n",
    "import numpy as np\n",
    "from Bio.SCOP import Scop\n",
    "from Bio import SeqIO\n",
    "from machina.generate_models import TMalignModel\n",
    "\n",
    "\n",
    "def _process(args):\n",
    "    aligns_list = SeqIO.index('data/train/scop40_structural_alignment.fasta', 'fasta')\n",
    "    for a in args:\n",
    "        TMalignModel().generate_protein_model(a[0], a[1], aligns_list, a[3])\n",
    "\n",
    "\n",
    "def main():\n",
    "    scop_root = Scop(dir_path=Path('data/scop'), version='1.75')\n",
    "    with Path('data/train/scop40_hie.pkl').open('rb') as f:\n",
    "        hie = pickle.load(f)\n",
    "    test_data = np.load('data/test/scop40.npy')\n",
    "    with ProcessPoolExecutor() as executor:\n",
    "        futures = []\n",
    "        for query in test_data:\n",
    "            query_sf = scop_root.getDomainBySid(query).getAscendent('sf').sunid\n",
    "            args = [(query, _, None, f'data/.tmalign_aln/{query}') for _ in hie[query_sf]]\n",
    "            futures.append(executor.submit(_process, args))\n",
    "        wait(futures)\n",
    "\n",
    "\n",
    "if __name__ == '__main__':\n",
    "    main()"
   ]
  },
  {
   "cell_type": "code",
   "execution_count": null,
   "metadata": {},
   "outputs": [],
   "source": [
    "from pathlib import Path\n",
    "import pickle\n",
    "from concurrent.futures import ProcessPoolExecutor, wait\n",
    "\n",
    "from tqdm import tqdm\n",
    "import numpy as np\n",
    "from Bio.SCOP import Scop\n",
    "from Bio import SeqIO\n",
    "from machina.generate_models import SWModel\n",
    "\n",
    "\n",
    "def _process(args):\n",
    "    aligns_list = SeqIO.index('data/train/scop40_structural_alignment.fasta', 'fasta')\n",
    "    for a in args:\n",
    "        SWModel(-11, -1).generate_protein_model(a[0], a[1], aligns_list, a[3])\n",
    "\n",
    "\n",
    "def main():\n",
    "    scop_root = Scop(dir_path=Path('data/scop'), version='1.75')\n",
    "    with Path('data/train/scop40_hie.pkl').open('rb') as f:\n",
    "        hie = pickle.load(f)\n",
    "    test_data = np.load('data/test/scop40.npy')\n",
    "    for query in tqdm(test_data):\n",
    "        query_sf = scop_root.getDomainBySid(query).getAscendent('sf').sunid\n",
    "        args = [(query, _, None, f'data/.sw_aln/open11_extend1/{query}') for _ in hie[query_sf]]\n",
    "        _process(args)\n",
    "\n",
    "\n",
    "if __name__ == '__main__':\n",
    "    main()"
   ]
  },
  {
   "cell_type": "markdown",
   "metadata": {},
   "source": [
    "## {PSI,DELTA}-BLAST"
   ]
  },
  {
   "cell_type": "code",
   "execution_count": 2,
   "metadata": {
    "ExecuteTime": {
     "end_time": "2019-02-05T13:57:29.715334Z",
     "start_time": "2019-02-05T13:17:23.592022Z"
    }
   },
   "outputs": [
    {
     "data": {
      "application/vnd.jupyter.widget-view+json": {
       "model_id": "26f39c5e1bb44dd382bdef22f672f86e",
       "version_major": 2,
       "version_minor": 0
      },
      "text/plain": [
       "HBox(children=(IntProgress(value=0, max=35), HTML(value='')))"
      ]
     },
     "metadata": {},
     "output_type": "display_data"
    },
    {
     "name": "stdout",
     "output_type": "stream",
     "text": [
      "\n"
     ]
    }
   ],
   "source": [
    "from pathlib import Path\n",
    "import sys\n",
    "\n",
    "import numpy as np\n",
    "from tqdm import tqdm_notebook as tqdm\n",
    "from Bio.SCOP import Scop\n",
    "from Bio import SeqIO\n",
    "\n",
    "sys.path.append(Path().resolve().parent.as_posix())\n",
    "from machina.generate_models import BLASTModel\n",
    "\n",
    "\n",
    "scop_root = Scop(dir_path='../data/train', version='1.75')\n",
    "test_domain = np.load('../data/test_domain_ids.npy')\n",
    "scop40 = SeqIO.index('../data/train/astral-scopdom-seqres-gd-sel-gs-bib-40-1.75.fa', 'fasta')\n",
    "for query in tqdm(test_domain):\n",
    "    domains = [_.sid for _ in scop_root.getDomainBySid(query).getAscendent('sf').getDescendents('px') if _.sid in scop40]\n",
    "    for domain in domains:\n",
    "        BLASTModel('psiblast', '/data/DB/blastdb').generate_pairwise_alignment(\n",
    "            query, domain, '../data/evaluation/psiblast', '../data/train/pssm') # 40 min"
   ]
  },
  {
   "cell_type": "code",
   "execution_count": 1,
   "metadata": {
    "ExecuteTime": {
     "end_time": "2019-02-06T01:30:42.472866Z",
     "start_time": "2019-02-06T01:22:05.775508Z"
    }
   },
   "outputs": [
    {
     "data": {
      "application/vnd.jupyter.widget-view+json": {
       "model_id": "eb1d5c0f69e047268f627cc9e4cf74ba",
       "version_major": 2,
       "version_minor": 0
      },
      "text/plain": [
       "HBox(children=(IntProgress(value=0, max=35), HTML(value='')))"
      ]
     },
     "metadata": {},
     "output_type": "display_data"
    },
    {
     "name": "stdout",
     "output_type": "stream",
     "text": [
      "\n"
     ]
    }
   ],
   "source": [
    "from pathlib import Path\n",
    "import sys\n",
    "\n",
    "import numpy as np\n",
    "from tqdm import tqdm_notebook as tqdm\n",
    "from Bio.SCOP import Scop\n",
    "from Bio import SeqIO\n",
    "\n",
    "sys.path.append(Path().resolve().parent.as_posix())\n",
    "from machina.generate_models import BLASTModel\n",
    "\n",
    "\n",
    "scop_root = Scop(dir_path='../data/train', version='1.75')\n",
    "test_domain = np.load('../data/test_domain_ids.npy')\n",
    "scop40 = SeqIO.index('../data/train/astral-scopdom-seqres-gd-sel-gs-bib-40-1.75.fa', 'fasta')\n",
    "for query in tqdm(test_domain):\n",
    "    domains = [_.sid for _ in scop_root.getDomainBySid(query).getAscendent('sf').getDescendents('px') if _.sid in scop40]\n",
    "    for domain in domains:\n",
    "        BLASTModel('deltablast', '/data/DB/blastdb').generate_pairwise_alignment(\n",
    "            query, domain, '../data/evaluation/deltablast', '../data/train/pssm') # 9min"
   ]
  },
  {
   "cell_type": "code",
   "execution_count": 1,
   "metadata": {
    "ExecuteTime": {
     "end_time": "2019-02-06T07:29:57.731988Z",
     "start_time": "2019-02-06T07:23:33.425485Z"
    }
   },
   "outputs": [
    {
     "name": "stderr",
     "output_type": "stream",
     "text": [
      "/home/makigaki/.local/lib/python3.6/site-packages/Bio/SearchIO/_legacy/NCBIStandalone.py:45: BiopythonWarning: Parsing BLAST plain text output file is not a well supported functionality anymore. Consider generating your BLAST output for parsing as XML or tabular format instead.\n",
      "  BiopythonWarning\n"
     ]
    },
    {
     "data": {
      "application/vnd.jupyter.widget-view+json": {
       "model_id": "08e6cc5d822e4a18ac663c2224adbdf9",
       "version_major": 2,
       "version_minor": 0
      },
      "text/plain": [
       "HBox(children=(IntProgress(value=1, bar_style='info', max=1), HTML(value='')))"
      ]
     },
     "metadata": {},
     "output_type": "display_data"
    },
    {
     "name": "stderr",
     "output_type": "stream",
     "text": [
      "/home/makigaki/.local/lib/python3.6/site-packages/Bio/SeqIO/PdbIO.py:70: BiopythonParserWarning: Ignoring out-of-order residues after a gap\n",
      "  BiopythonParserWarning)\n",
      "/home/makigaki/.local/lib/python3.6/site-packages/Bio/SeqIO/PdbIO.py:70: BiopythonParserWarning: Ignoring out-of-order residues after a gap\n",
      "  BiopythonParserWarning)\n",
      "/home/makigaki/.local/lib/python3.6/site-packages/Bio/SeqIO/PdbIO.py:70: BiopythonParserWarning: Ignoring out-of-order residues after a gap\n",
      "  BiopythonParserWarning)\n",
      "/home/makigaki/.local/lib/python3.6/site-packages/Bio/SeqIO/PdbIO.py:70: BiopythonParserWarning: Ignoring out-of-order residues after a gap\n",
      "  BiopythonParserWarning)\n",
      "/home/makigaki/.local/lib/python3.6/site-packages/Bio/SeqIO/PdbIO.py:70: BiopythonParserWarning: Ignoring out-of-order residues after a gap\n",
      "  BiopythonParserWarning)\n"
     ]
    },
    {
     "name": "stdout",
     "output_type": "stream",
     "text": [
      "\n"
     ]
    }
   ],
   "source": [
    "from pathlib import Path\n",
    "import sys\n",
    "import os\n",
    "from concurrent.futures import ThreadPoolExecutor, as_completed\n",
    "\n",
    "import numpy as np\n",
    "from Bio.SCOP import Scop\n",
    "from Bio import SeqIO\n",
    "from tqdm import tqdm_notebook as tqdm\n",
    "\n",
    "sys.path.append(Path().resolve().parent.as_posix())\n",
    "from machina.generate_models import BLASTModel\n",
    "\n",
    "\n",
    "def _process(args):\n",
    "    for a in args:\n",
    "        BLASTModel('psiblast', '/data/DB/blastdb').generate_protein_model(a[0], a[1], a[2], a[3], a[4])\n",
    "\n",
    "\n",
    "scop_root = Scop(dir_path='../data/train', version='1.75')\n",
    "test_domain = np.load('../data/test_domain_ids.npy')\n",
    "scop40 = SeqIO.index('../data/train/astral-scopdom-seqres-gd-sel-gs-bib-40-1.75.fa', 'fasta')\n",
    "with ThreadPoolExecutor(max_workers=os.cpu_count()) as executor:\n",
    "    futures = []\n",
    "    for query in test_domain:\n",
    "        domains = [_.sid for _ in scop_root.getDomainBySid(query).getAscendent('sf').getDescendents('px')\n",
    "                   if _.sid in scop40 and _.sid != query]\n",
    "        args = [(query, _,\n",
    "                 f'../data/evaluation/psiblast/{query}/{_}.xml',\n",
    "                 f'../data/evaluation/psiblast/{query}',\n",
    "                 f'../data/train/pdbstyle-1.75/{_[2:4]}') for _ in domains]\n",
    "        futures.append(executor.submit(_process, args))\n",
    "    [_ for _ in tqdm(as_completed(futures), total=len(futures))] # 7 min"
   ]
  },
  {
   "cell_type": "code",
   "execution_count": 2,
   "metadata": {
    "ExecuteTime": {
     "end_time": "2019-02-06T07:38:34.879077Z",
     "start_time": "2019-02-06T07:31:42.468110Z"
    }
   },
   "outputs": [
    {
     "data": {
      "application/vnd.jupyter.widget-view+json": {
       "model_id": "86fbf8ff62d041d8a03075bf545942e2",
       "version_major": 2,
       "version_minor": 0
      },
      "text/plain": [
       "HBox(children=(IntProgress(value=0, max=35), HTML(value='')))"
      ]
     },
     "metadata": {},
     "output_type": "display_data"
    },
    {
     "name": "stderr",
     "output_type": "stream",
     "text": [
      "/home/makigaki/.local/lib/python3.6/site-packages/Bio/SeqIO/PdbIO.py:70: BiopythonParserWarning: Ignoring out-of-order residues after a gap\n",
      "  BiopythonParserWarning)\n",
      "/home/makigaki/.local/lib/python3.6/site-packages/Bio/SeqIO/PdbIO.py:70: BiopythonParserWarning: Ignoring out-of-order residues after a gap\n",
      "  BiopythonParserWarning)\n",
      "/home/makigaki/.local/lib/python3.6/site-packages/Bio/SeqIO/PdbIO.py:70: BiopythonParserWarning: Ignoring out-of-order residues after a gap\n",
      "  BiopythonParserWarning)\n",
      "/home/makigaki/.local/lib/python3.6/site-packages/Bio/SeqIO/PdbIO.py:70: BiopythonParserWarning: Ignoring out-of-order residues after a gap\n",
      "  BiopythonParserWarning)\n"
     ]
    },
    {
     "name": "stdout",
     "output_type": "stream",
     "text": [
      "\n"
     ]
    }
   ],
   "source": [
    "from pathlib import Path\n",
    "import sys\n",
    "import os\n",
    "from concurrent.futures import ThreadPoolExecutor, as_completed\n",
    "\n",
    "import numpy as np\n",
    "from Bio.SCOP import Scop\n",
    "from Bio import SeqIO\n",
    "from tqdm import tqdm_notebook as tqdm\n",
    "\n",
    "sys.path.append(Path().resolve().parent.as_posix())\n",
    "from machina.generate_models import BLASTModel\n",
    "\n",
    "\n",
    "def _process(args):\n",
    "    for a in args:\n",
    "        BLASTModel('deltablast', '/data/DB/blastdb').generate_protein_model(a[0], a[1], a[2], a[3], a[4])\n",
    "\n",
    "\n",
    "scop_root = Scop(dir_path='../data/train', version='1.75')\n",
    "test_domain = np.load('../data/test_domain_ids.npy')\n",
    "scop40 = SeqIO.index('../data/train/astral-scopdom-seqres-gd-sel-gs-bib-40-1.75.fa', 'fasta')\n",
    "with ThreadPoolExecutor(max_workers=os.cpu_count()) as executor:\n",
    "    futures = []\n",
    "    for query in test_domain:\n",
    "        domains = [_.sid for _ in scop_root.getDomainBySid(query).getAscendent('sf').getDescendents('px')\n",
    "                   if _.sid in scop40 and _.sid != query]\n",
    "        args = [(query, _,\n",
    "                 f'../data/evaluation/deltablast/{query}/{_}.xml',\n",
    "                 f'../data/evaluation/deltablast/{query}',\n",
    "                 f'../data/train/pdbstyle-1.75/{_[2:4]}') for _ in domains]\n",
    "        futures.append(executor.submit(_process, args))\n",
    "    [_ for _ in tqdm(as_completed(futures), total=len(futures))] # 7 min"
   ]
  },
  {
   "cell_type": "markdown",
   "metadata": {},
   "source": [
    "## HHsearch"
   ]
  },
  {
   "cell_type": "code",
   "execution_count": 1,
   "metadata": {
    "ExecuteTime": {
     "end_time": "2019-02-07T13:09:58.164860Z",
     "start_time": "2019-02-07T13:07:57.540752Z"
    }
   },
   "outputs": [
    {
     "data": {
      "application/vnd.jupyter.widget-view+json": {
       "model_id": "753b8ec306df460ba9c7cf3e26915558",
       "version_major": 2,
       "version_minor": 0
      },
      "text/plain": [
       "HBox(children=(IntProgress(value=0, max=35), HTML(value='')))"
      ]
     },
     "metadata": {},
     "output_type": "display_data"
    },
    {
     "name": "stdout",
     "output_type": "stream",
     "text": [
      "\n"
     ]
    }
   ],
   "source": [
    "from pathlib import Path\n",
    "import sys\n",
    "\n",
    "import numpy as np\n",
    "from Bio.SCOP import Scop\n",
    "from Bio import SeqIO\n",
    "from tqdm import tqdm_notebook as tqdm\n",
    "\n",
    "sys.path.append(Path().resolve().parent.as_posix())\n",
    "from machina.generate_models import HHSearchModel\n",
    "\n",
    "\n",
    "scop_root = Scop(dir_path='../data/train', version='1.75')\n",
    "test_domain = np.load('../data/test_domain_ids.npy')\n",
    "scop40 = SeqIO.index('../data/train/astral-scopdom-seqres-gd-sel-gs-bib-40-1.75.fa', 'fasta')\n",
    "for query in tqdm(test_domain):\n",
    "    domains = [_.sid for _ in scop_root.getDomainBySid(query).getAscendent('sf').getDescendents('px')\n",
    "               if _.sid in scop40 and _.sid != query]\n",
    "    for domain in domains:\n",
    "        HHSearchModel('/data/DB/hhsuitedb').generate_pairwise_alignment(\n",
    "            query, domain, scop40[query], f'../data/evaluation/hhsearch/{query}') # 2 min or 12 hours"
   ]
  },
  {
   "cell_type": "code",
   "execution_count": 1,
   "metadata": {
    "ExecuteTime": {
     "end_time": "2019-02-07T13:50:08.886079Z",
     "start_time": "2019-02-07T13:41:29.182516Z"
    }
   },
   "outputs": [
    {
     "data": {
      "application/vnd.jupyter.widget-view+json": {
       "model_id": "0f11dd14d79f4afca4b0dab3b4d1f7d7",
       "version_major": 2,
       "version_minor": 0
      },
      "text/plain": [
       "HBox(children=(IntProgress(value=0, max=35), HTML(value='')))"
      ]
     },
     "metadata": {},
     "output_type": "display_data"
    },
    {
     "name": "stdout",
     "output_type": "stream",
     "text": [
      "\n"
     ]
    }
   ],
   "source": [
    "from pathlib import Path\n",
    "import sys\n",
    "\n",
    "from tqdm import tqdm_notebook as tqdm\n",
    "import numpy as np\n",
    "from Bio.SCOP import Scop\n",
    "from Bio import SeqIO\n",
    "\n",
    "sys.path.append(Path().resolve().parent.as_posix())\n",
    "from machina.generate_models import HHSearchModel\n",
    "\n",
    "\n",
    "def _process(args):\n",
    "    for a in args:\n",
    "        HHSearchModel('/data/DB/hhsuitedb').generate_protein_model(a[0], a[1], a[2], a[3])\n",
    "\n",
    "\n",
    "scop_root = Scop(dir_path='../data/train', version='1.75')\n",
    "test_domain = np.load('../data/test_domain_ids.npy')\n",
    "scop40 = SeqIO.index('../data/train/astral-scopdom-seqres-gd-sel-gs-bib-40-1.75.fa', 'fasta')\n",
    "for query in tqdm(test_domain):\n",
    "    domains = [_.sid for _ in scop_root.getDomainBySid(query).getAscendent('sf').getDescendents('px')\n",
    "               if _.sid in scop40 and _.sid != query]\n",
    "    args = [(query, _, f'../data/evaluation/hhsearch/{query}', f'../data/train/pdbstyle-1.75/{_[2:4]}') for _ in domains]\n",
    "    _process(args)  # 9 min"
   ]
  }
 ],
 "metadata": {
  "kernelspec": {
   "display_name": "Python 3",
   "language": "python",
   "name": "python3"
  },
  "language_info": {
   "codemirror_mode": {
    "name": "ipython",
    "version": 3
   },
   "file_extension": ".py",
   "mimetype": "text/x-python",
   "name": "python",
   "nbconvert_exporter": "python",
   "pygments_lexer": "ipython3",
   "version": "3.6.3"
  },
  "toc": {
   "base_numbering": 1,
   "nav_menu": {},
   "number_sections": true,
   "sideBar": true,
   "skip_h1_title": true,
   "title_cell": "Table of Contents",
   "title_sidebar": "Contents",
   "toc_cell": false,
   "toc_position": {
    "height": "calc(100% - 180px)",
    "left": "10px",
    "top": "150px",
    "width": "336px"
   },
   "toc_section_display": true,
   "toc_window_display": false
  }
 },
 "nbformat": 4,
 "nbformat_minor": 2
}
