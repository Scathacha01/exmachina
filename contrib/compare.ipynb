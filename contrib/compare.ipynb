{
 "cells": [
  {
   "cell_type": "code",
   "execution_count": 1,
   "metadata": {
    "ExecuteTime": {
     "end_time": "2019-02-12T03:56:21.643295Z",
     "start_time": "2019-02-12T03:40:48.755008Z"
    },
    "autoscroll": false,
    "collapsed": false,
    "ein.hycell": false,
    "ein.tags": "worksheet-0",
    "scrolled": true,
    "slideshow": {
     "slide_type": "-"
    }
   },
   "outputs": [
    {
     "name": "stderr",
     "output_type": "stream",
     "text": [
      "  0%|          | 0/35 [00:00<?, ?it/s]/home/makigaki/.local/lib/python3.6/site-packages/Bio/SeqIO/PdbIO.py:70: BiopythonParserWarning: Ignoring out-of-order residues after a gap\n",
      "  BiopythonParserWarning)\n",
      " 51%|█████▏    | 18/35 [00:56<01:03,  3.76s/it]/home/makigaki/.local/lib/python3.6/site-packages/Bio/SeqIO/PdbIO.py:70: BiopythonParserWarning: Ignoring out-of-order residues after a gap\n",
      "  BiopythonParserWarning)\n",
      " 54%|█████▍    | 19/35 [01:03<01:16,  4.80s/it]/home/makigaki/.local/lib/python3.6/site-packages/Bio/SeqIO/PdbIO.py:70: BiopythonParserWarning: Ignoring out-of-order residues after a gap\n",
      "  BiopythonParserWarning)\n",
      " 74%|███████▍  | 26/35 [02:11<01:15,  8.35s/it]/home/makigaki/.local/lib/python3.6/site-packages/Bio/SeqIO/PdbIO.py:70: BiopythonParserWarning: Ignoring out-of-order residues after a gap\n",
      "  BiopythonParserWarning)\n",
      "/home/makigaki/.local/lib/python3.6/site-packages/Bio/PDB/PDBParser.py:200: PDBConstructionWarning: Negative occupancy in one or more atoms\n",
      "  warnings.warn(\"Negative occupancy in one or more atoms\", PDBConstructionWarning)\n",
      " 80%|████████  | 28/35 [04:42<05:29, 47.08s/it]/home/makigaki/.local/lib/python3.6/site-packages/Bio/SeqIO/PdbIO.py:70: BiopythonParserWarning: Ignoring out-of-order residues after a gap\n",
      "  BiopythonParserWarning)\n",
      "100%|██████████| 35/35 [15:29<00:00, 155.78s/it]\n"
     ]
    }
   ],
   "source": [
    "from pathlib import Path\n",
    "import sys\n",
    "from concurrent.futures import ProcessPoolExecutor, as_completed\n",
    "\n",
    "from tqdm import tqdm_notebook as tqdm\n",
    "import numpy as np\n",
    "from Bio.SCOP import Scop\n",
    "from Bio import SeqIO\n",
    "\n",
    "sys.path.append(Path().resolve().parent.as_posix())\n",
    "from machina.generate_models import TMalignModel\n",
    "\n",
    "\n",
    "def _process(args):\n",
    "    alignments = SeqIO.index('../data/train/scop40_structural_alignment.fasta', 'fasta')\n",
    "    for a in args:\n",
    "        try:\n",
    "            TMalignModel().generate_protein_model(a[0], a[1], alignments, a[3], a[4])\n",
    "        except Exception as e:\n",
    "            print(e)\n",
    "\n",
    "\n",
    "scop_root = Scop(dir_path='../data/train', version='1.75')\n",
    "test_domain = np.load('../data/test_domain_ids.npy')\n",
    "scop40 = SeqIO.index('../data/train/astral-scopdom-seqres-gd-sel-gs-bib-40-1.75.fa', 'fasta')\n",
    "with ProcessPoolExecutor() as executor:\n",
    "    futures = []\n",
    "    for query in test_domain:\n",
    "        domains = [_.sid for _ in scop_root.getDomainBySid(query).getAscendent('sf').getDescendents('px')\n",
    "                   if _.sid in scop40 and _.sid != query]\n",
    "        args = [(query, _, None, f'../data/train/pdbstyle-1.75/{_[2:4]}', f'../data/evaluation/tmalign/{query}')\n",
    "                for _ in domains]\n",
    "        futures.append(executor.submit(_process, args))\n",
    "    [_ for _ in tqdm(as_completed(futures), total=len(futures))] # 15min"
   ]
  },
  {
   "cell_type": "code",
   "execution_count": 1,
   "metadata": {
    "autoscroll": false,
    "collapsed": false,
    "ein.hycell": false,
    "ein.tags": "worksheet-0",
    "slideshow": {
     "slide_type": "-"
    }
   },
   "outputs": [
    {
     "name": "stderr",
     "output_type": "stream",
     "text": [
      "\r",
      "  0%|          | 0/35 [00:00<?, ?it/s]"
     ]
    },
    {
     "name": "stderr",
     "output_type": "stream",
     "text": [
      "/home/makigaki/.local/lib/python3.6/site-packages/Bio/SeqIO/PdbIO.py:70: BiopythonParserWarning: Ignoring out-of-order residues after a gap\n",
      "  BiopythonParserWarning)\n"
     ]
    },
    {
     "name": "stderr",
     "output_type": "stream",
     "text": [
      "\r",
      "  3%|▎         | 1/35 [00:05<03:15,  5.75s/it]"
     ]
    },
    {
     "name": "stderr",
     "output_type": "stream",
     "text": [
      "\r",
      "  6%|▌         | 2/35 [00:11<03:13,  5.87s/it]"
     ]
    },
    {
     "name": "stderr",
     "output_type": "stream",
     "text": [
      "\r",
      "  9%|▊         | 3/35 [00:13<02:23,  4.47s/it]"
     ]
    },
    {
     "name": "stderr",
     "output_type": "stream",
     "text": [
      "\r",
      " 14%|█▍        | 5/35 [00:13<01:37,  3.23s/it]"
     ]
    },
    {
     "name": "stderr",
     "output_type": "stream",
     "text": [
      "\r",
      " 17%|█▋        | 6/35 [00:14<01:07,  2.33s/it]"
     ]
    },
    {
     "name": "stderr",
     "output_type": "stream",
     "text": [
      "\r",
      " 20%|██        | 7/35 [00:15<00:57,  2.04s/it]"
     ]
    },
    {
     "name": "stderr",
     "output_type": "stream",
     "text": [
      "\r",
      " 23%|██▎       | 8/35 [00:18<01:06,  2.47s/it]"
     ]
    },
    {
     "name": "stderr",
     "output_type": "stream",
     "text": [
      "\r",
      " 26%|██▌       | 9/35 [00:20<00:55,  2.12s/it]"
     ]
    },
    {
     "name": "stderr",
     "output_type": "stream",
     "text": [
      "\r",
      " 29%|██▊       | 10/35 [00:21<00:44,  1.77s/it]"
     ]
    },
    {
     "name": "stderr",
     "output_type": "stream",
     "text": [
      "\r",
      " 31%|███▏      | 11/35 [00:29<01:28,  3.67s/it]"
     ]
    },
    {
     "name": "stderr",
     "output_type": "stream",
     "text": [
      "\r",
      " 34%|███▍      | 12/35 [00:34<01:38,  4.29s/it]"
     ]
    },
    {
     "name": "stderr",
     "output_type": "stream",
     "text": [
      "\r",
      " 37%|███▋      | 13/35 [00:35<01:08,  3.10s/it]"
     ]
    },
    {
     "name": "stderr",
     "output_type": "stream",
     "text": [
      "\r",
      " 40%|████      | 14/35 [00:43<01:34,  4.51s/it]"
     ]
    },
    {
     "name": "stderr",
     "output_type": "stream",
     "text": [
      "\r",
      " 43%|████▎     | 15/35 [00:43<01:06,  3.33s/it]"
     ]
    },
    {
     "name": "stderr",
     "output_type": "stream",
     "text": [
      "\r",
      " 46%|████▌     | 16/35 [00:49<01:17,  4.09s/it]"
     ]
    },
    {
     "name": "stderr",
     "output_type": "stream",
     "text": [
      "\r",
      " 49%|████▊     | 17/35 [00:50<00:54,  3.02s/it]"
     ]
    },
    {
     "name": "stderr",
     "output_type": "stream",
     "text": [
      "\r",
      " 51%|█████▏    | 18/35 [00:54<00:57,  3.41s/it]"
     ]
    },
    {
     "name": "stderr",
     "output_type": "stream",
     "text": [
      "/home/makigaki/.local/lib/python3.6/site-packages/Bio/SeqIO/PdbIO.py:70: BiopythonParserWarning: Ignoring out-of-order residues after a gap\n",
      "  BiopythonParserWarning)\n"
     ]
    },
    {
     "name": "stderr",
     "output_type": "stream",
     "text": [
      "\r",
      " 54%|█████▍    | 19/35 [01:01<01:13,  4.57s/it]"
     ]
    },
    {
     "name": "stderr",
     "output_type": "stream",
     "text": [
      "\r",
      " 57%|█████▋    | 20/35 [01:21<02:16,  9.09s/it]"
     ]
    },
    {
     "name": "stderr",
     "output_type": "stream",
     "text": [
      "/home/makigaki/.local/lib/python3.6/site-packages/Bio/SeqIO/PdbIO.py:70: BiopythonParserWarning: Ignoring out-of-order residues after a gap\n",
      "  BiopythonParserWarning)\n"
     ]
    },
    {
     "name": "stderr",
     "output_type": "stream",
     "text": [
      "\r",
      " 60%|██████    | 21/35 [01:29<02:03,  8.81s/it]"
     ]
    },
    {
     "name": "stderr",
     "output_type": "stream",
     "text": [
      "\r",
      " 63%|██████▎   | 22/35 [01:47<02:31, 11.64s/it]"
     ]
    },
    {
     "name": "stderr",
     "output_type": "stream",
     "text": [
      "\r",
      " 66%|██████▌   | 23/35 [01:48<01:42,  8.53s/it]"
     ]
    },
    {
     "name": "stderr",
     "output_type": "stream",
     "text": [
      "\r",
      " 69%|██████▊   | 24/35 [01:51<01:13,  6.68s/it]"
     ]
    },
    {
     "name": "stderr",
     "output_type": "stream",
     "text": [
      "/home/makigaki/.local/lib/python3.6/site-packages/Bio/SeqIO/PdbIO.py:70: BiopythonParserWarning: Ignoring out-of-order residues after a gap\n",
      "  BiopythonParserWarning)\n"
     ]
    },
    {
     "name": "stderr",
     "output_type": "stream",
     "text": [
      "\r",
      " 71%|███████▏  | 25/35 [02:05<01:30,  9.03s/it]"
     ]
    },
    {
     "name": "stderr",
     "output_type": "stream",
     "text": [
      "\r",
      " 74%|███████▍  | 26/35 [02:12<01:14,  8.29s/it]"
     ]
    },
    {
     "name": "stderr",
     "output_type": "stream",
     "text": [
      "/home/makigaki/.local/lib/python3.6/site-packages/Bio/PDB/PDBParser.py:200: PDBConstructionWarning: Negative occupancy in one or more atoms\n",
      "  warnings.warn(\"Negative occupancy in one or more atoms\", PDBConstructionWarning)\n"
     ]
    },
    {
     "name": "stderr",
     "output_type": "stream",
     "text": [
      "\r",
      " 77%|███████▋  | 27/35 [02:41<01:56, 14.61s/it]"
     ]
    },
    {
     "name": "stderr",
     "output_type": "stream",
     "text": [
      "\r",
      " 80%|████████  | 28/35 [04:47<05:34, 47.82s/it]"
     ]
    },
    {
     "name": "stderr",
     "output_type": "stream",
     "text": [
      "/home/makigaki/.local/lib/python3.6/site-packages/Bio/SeqIO/PdbIO.py:70: BiopythonParserWarning: Ignoring out-of-order residues after a gap\n",
      "  BiopythonParserWarning)\n"
     ]
    },
    {
     "name": "stderr",
     "output_type": "stream",
     "text": [
      "\r",
      " 83%|████████▎ | 29/35 [05:01<03:46, 37.69s/it]"
     ]
    },
    {
     "name": "stderr",
     "output_type": "stream",
     "text": [
      "\r",
      " 86%|████████▌ | 30/35 [06:03<03:45, 45.19s/it]"
     ]
    },
    {
     "name": "stderr",
     "output_type": "stream",
     "text": [
      "\r",
      " 89%|████████▊ | 31/35 [06:10<02:15, 33.79s/it]"
     ]
    },
    {
     "name": "stderr",
     "output_type": "stream",
     "text": [
      "\r",
      " 91%|█████████▏| 32/35 [06:46<01:43, 34.38s/it]"
     ]
    },
    {
     "name": "stderr",
     "output_type": "stream",
     "text": [
      "\r",
      " 94%|█████████▍| 33/35 [07:38<01:19, 39.68s/it]"
     ]
    },
    {
     "name": "stderr",
     "output_type": "stream",
     "text": [
      "\r",
      " 97%|█████████▋| 34/35 [08:18<00:39, 39.76s/it]"
     ]
    },
    {
     "name": "stderr",
     "output_type": "stream",
     "text": [
      "\r",
      "100%|██████████| 35/35 [14:58<00:00, 147.78s/it]"
     ]
    },
    {
     "name": "stderr",
     "output_type": "stream",
     "text": [
      "\n"
     ]
    }
   ],
   "source": [
    "from pathlib import Path\n",
    "import sys\n",
    "from concurrent.futures import ProcessPoolExecutor, as_completed\n",
    "\n",
    "from tqdm import tqdm\n",
    "import numpy as np\n",
    "from Bio.SCOP import Scop\n",
    "from Bio import SeqIO\n",
    "\n",
    "sys.path.append(Path().resolve().parent.as_posix())\n",
    "from machina.generate_models import SWModel\n",
    "\n",
    "\n",
    "def _process(args):\n",
    "    aligns = SeqIO.index('../data/train/scop40_structural_alignment.fasta', 'fasta')\n",
    "    for a in args:\n",
    "        SWModel(-11, -1).generate_protein_model(a[0], a[1], aligns, a[3], a[4])\n",
    "\n",
    "\n",
    "scop_root = Scop(dir_path='../data/train', version='1.75')\n",
    "test_domain = np.load('../data/test_domain_ids.npy')\n",
    "scop40 = SeqIO.index('../data/train/astral-scopdom-seqres-gd-sel-gs-bib-40-1.75.fa', 'fasta')\n",
    "with ProcessPoolExecutor() as executor:\n",
    "    futures = []\n",
    "    for query in test_domain:\n",
    "        domains = [_.sid for _ in scop_root.getDomainBySid(query).getAscendent('sf').getDescendents('px')\n",
    "                   if _.sid in scop40 and _.sid != query]\n",
    "        args = [(query, _, None, f'../data/train/pdbstyle-1.75/{_[2:4]}',\n",
    "                 f'../data/evaluation/sw_open11_ext1/{query}') for _ in domains]\n",
    "        futures.append(executor.submit(_process, args))\n",
    "    [_ for _ in tqdm(as_completed(futures), total=len(futures))]"
   ]
  },
  {
   "cell_type": "markdown",
   "metadata": {
    "ein.tags": "worksheet-0",
    "slideshow": {
     "slide_type": "-"
    }
   },
   "source": [
    "## {PSI,DELTA}-BLAST"
   ]
  },
  {
   "cell_type": "code",
   "execution_count": 2,
   "metadata": {
    "ExecuteTime": {
     "end_time": "2019-02-05T13:57:29.715334Z",
     "start_time": "2019-02-05T13:17:23.592022Z"
    },
    "autoscroll": false,
    "collapsed": false,
    "ein.hycell": false,
    "ein.tags": "worksheet-0",
    "slideshow": {
     "slide_type": "-"
    }
   },
   "outputs": [
    {
     "data": {
      "application/vnd.jupyter.widget-view+json": {
       "model_id": "26f39c5e1bb44dd382bdef22f672f86e",
       "version_major": 2,
       "version_minor": 0
      },
      "text/plain": [
       "HBox(children=(IntProgress(value=0, max=35), HTML(value='')))"
      ]
     },
     "metadata": {},
     "output_type": "display_data"
    },
    {
     "name": "stdout",
     "output_type": "stream",
     "text": [
      "\n"
     ]
    }
   ],
   "source": [
    "from pathlib import Path\n",
    "import sys\n",
    "\n",
    "import numpy as np\n",
    "from tqdm import tqdm_notebook as tqdm\n",
    "from Bio.SCOP import Scop\n",
    "from Bio import SeqIO\n",
    "\n",
    "sys.path.append(Path().resolve().parent.as_posix())\n",
    "from machina.generate_models import BLASTModel\n",
    "\n",
    "\n",
    "scop_root = Scop(dir_path='../data/train', version='1.75')\n",
    "test_domain = np.load('../data/test_domain_ids.npy')\n",
    "scop40 = SeqIO.index('../data/train/astral-scopdom-seqres-gd-sel-gs-bib-40-1.75.fa', 'fasta')\n",
    "for query in tqdm(test_domain):\n",
    "    domains = [_.sid for _ in scop_root.getDomainBySid(query).getAscendent('sf').getDescendents('px') if _.sid in scop40]\n",
    "    for domain in domains:\n",
    "        BLASTModel('psiblast', '/data/DB/blastdb').generate_pairwise_alignment(\n",
    "            query, domain, '../data/evaluation/psiblast', '../data/train/pssm') # 40 min"
   ]
  },
  {
   "cell_type": "code",
   "execution_count": 1,
   "metadata": {
    "ExecuteTime": {
     "end_time": "2019-02-06T01:30:42.472866Z",
     "start_time": "2019-02-06T01:22:05.775508Z"
    },
    "autoscroll": false,
    "collapsed": false,
    "ein.hycell": false,
    "ein.tags": "worksheet-0",
    "slideshow": {
     "slide_type": "-"
    }
   },
   "outputs": [
    {
     "data": {
      "application/vnd.jupyter.widget-view+json": {
       "model_id": "eb1d5c0f69e047268f627cc9e4cf74ba",
       "version_major": 2,
       "version_minor": 0
      },
      "text/plain": [
       "HBox(children=(IntProgress(value=0, max=35), HTML(value='')))"
      ]
     },
     "metadata": {},
     "output_type": "display_data"
    },
    {
     "name": "stdout",
     "output_type": "stream",
     "text": [
      "\n"
     ]
    }
   ],
   "source": [
    "from pathlib import Path\n",
    "import sys\n",
    "\n",
    "import numpy as np\n",
    "from tqdm import tqdm_notebook as tqdm\n",
    "from Bio.SCOP import Scop\n",
    "from Bio import SeqIO\n",
    "\n",
    "sys.path.append(Path().resolve().parent.as_posix())\n",
    "from machina.generate_models import BLASTModel\n",
    "\n",
    "\n",
    "scop_root = Scop(dir_path='../data/train', version='1.75')\n",
    "test_domain = np.load('../data/test_domain_ids.npy')\n",
    "scop40 = SeqIO.index('../data/train/astral-scopdom-seqres-gd-sel-gs-bib-40-1.75.fa', 'fasta')\n",
    "for query in tqdm(test_domain):\n",
    "    domains = [_.sid for _ in scop_root.getDomainBySid(query).getAscendent('sf').getDescendents('px') if _.sid in scop40]\n",
    "    for domain in domains:\n",
    "        BLASTModel('deltablast', '/data/DB/blastdb').generate_pairwise_alignment(\n",
    "            query, domain, '../data/evaluation/deltablast', '../data/train/pssm') # 9min"
   ]
  },
  {
   "cell_type": "code",
   "execution_count": 1,
   "metadata": {
    "ExecuteTime": {
     "end_time": "2019-02-06T07:29:57.731988Z",
     "start_time": "2019-02-06T07:23:33.425485Z"
    },
    "autoscroll": false,
    "collapsed": false,
    "ein.hycell": false,
    "ein.tags": "worksheet-0",
    "slideshow": {
     "slide_type": "-"
    }
   },
   "outputs": [
    {
     "name": "stderr",
     "output_type": "stream",
     "text": [
      "/home/makigaki/.local/lib/python3.6/site-packages/Bio/SearchIO/_legacy/NCBIStandalone.py:45: BiopythonWarning: Parsing BLAST plain text output file is not a well supported functionality anymore. Consider generating your BLAST output for parsing as XML or tabular format instead.\n",
      "  BiopythonWarning\n"
     ]
    },
    {
     "data": {
      "application/vnd.jupyter.widget-view+json": {
       "model_id": "08e6cc5d822e4a18ac663c2224adbdf9",
       "version_major": 2,
       "version_minor": 0
      },
      "text/plain": [
       "HBox(children=(IntProgress(value=1, bar_style='info', max=1), HTML(value='')))"
      ]
     },
     "metadata": {},
     "output_type": "display_data"
    },
    {
     "name": "stderr",
     "output_type": "stream",
     "text": [
      "/home/makigaki/.local/lib/python3.6/site-packages/Bio/SeqIO/PdbIO.py:70: BiopythonParserWarning: Ignoring out-of-order residues after a gap\n",
      "  BiopythonParserWarning)\n",
      "/home/makigaki/.local/lib/python3.6/site-packages/Bio/SeqIO/PdbIO.py:70: BiopythonParserWarning: Ignoring out-of-order residues after a gap\n",
      "  BiopythonParserWarning)\n",
      "/home/makigaki/.local/lib/python3.6/site-packages/Bio/SeqIO/PdbIO.py:70: BiopythonParserWarning: Ignoring out-of-order residues after a gap\n",
      "  BiopythonParserWarning)\n",
      "/home/makigaki/.local/lib/python3.6/site-packages/Bio/SeqIO/PdbIO.py:70: BiopythonParserWarning: Ignoring out-of-order residues after a gap\n",
      "  BiopythonParserWarning)\n",
      "/home/makigaki/.local/lib/python3.6/site-packages/Bio/SeqIO/PdbIO.py:70: BiopythonParserWarning: Ignoring out-of-order residues after a gap\n",
      "  BiopythonParserWarning)\n"
     ]
    },
    {
     "name": "stdout",
     "output_type": "stream",
     "text": [
      "\n"
     ]
    }
   ],
   "source": [
    "from pathlib import Path\n",
    "import sys\n",
    "import os\n",
    "from concurrent.futures import ThreadPoolExecutor, as_completed\n",
    "\n",
    "import numpy as np\n",
    "from Bio.SCOP import Scop\n",
    "from Bio import SeqIO\n",
    "from tqdm import tqdm_notebook as tqdm\n",
    "\n",
    "sys.path.append(Path().resolve().parent.as_posix())\n",
    "from machina.generate_models import BLASTModel\n",
    "\n",
    "\n",
    "def _process(args):\n",
    "    for a in args:\n",
    "        BLASTModel('psiblast', '/data/DB/blastdb').generate_protein_model(a[0], a[1], a[2], a[3], a[4])\n",
    "\n",
    "\n",
    "scop_root = Scop(dir_path='../data/train', version='1.75')\n",
    "test_domain = np.load('../data/test_domain_ids.npy')\n",
    "scop40 = SeqIO.index('../data/train/astral-scopdom-seqres-gd-sel-gs-bib-40-1.75.fa', 'fasta')\n",
    "with ThreadPoolExecutor(max_workers=os.cpu_count()) as executor:\n",
    "    futures = []\n",
    "    for query in test_domain:\n",
    "        domains = [_.sid for _ in scop_root.getDomainBySid(query).getAscendent('sf').getDescendents('px')\n",
    "                   if _.sid in scop40 and _.sid != query]\n",
    "        args = [(query, _,\n",
    "                 f'../data/evaluation/psiblast/{query}/{_}.xml',\n",
    "                 f'../data/evaluation/psiblast/{query}',\n",
    "                 f'../data/train/pdbstyle-1.75/{_[2:4]}') for _ in domains]\n",
    "        futures.append(executor.submit(_process, args))\n",
    "    [_ for _ in tqdm(as_completed(futures), total=len(futures))] # 7 min"
   ]
  },
  {
   "cell_type": "code",
   "execution_count": 2,
   "metadata": {
    "ExecuteTime": {
     "end_time": "2019-02-06T07:38:34.879077Z",
     "start_time": "2019-02-06T07:31:42.468110Z"
    },
    "autoscroll": false,
    "collapsed": false,
    "ein.hycell": false,
    "ein.tags": "worksheet-0",
    "slideshow": {
     "slide_type": "-"
    }
   },
   "outputs": [
    {
     "data": {
      "application/vnd.jupyter.widget-view+json": {
       "model_id": "86fbf8ff62d041d8a03075bf545942e2",
       "version_major": 2,
       "version_minor": 0
      },
      "text/plain": [
       "HBox(children=(IntProgress(value=0, max=35), HTML(value='')))"
      ]
     },
     "metadata": {},
     "output_type": "display_data"
    },
    {
     "name": "stderr",
     "output_type": "stream",
     "text": [
      "/home/makigaki/.local/lib/python3.6/site-packages/Bio/SeqIO/PdbIO.py:70: BiopythonParserWarning: Ignoring out-of-order residues after a gap\n",
      "  BiopythonParserWarning)\n",
      "/home/makigaki/.local/lib/python3.6/site-packages/Bio/SeqIO/PdbIO.py:70: BiopythonParserWarning: Ignoring out-of-order residues after a gap\n",
      "  BiopythonParserWarning)\n",
      "/home/makigaki/.local/lib/python3.6/site-packages/Bio/SeqIO/PdbIO.py:70: BiopythonParserWarning: Ignoring out-of-order residues after a gap\n",
      "  BiopythonParserWarning)\n",
      "/home/makigaki/.local/lib/python3.6/site-packages/Bio/SeqIO/PdbIO.py:70: BiopythonParserWarning: Ignoring out-of-order residues after a gap\n",
      "  BiopythonParserWarning)\n"
     ]
    },
    {
     "name": "stdout",
     "output_type": "stream",
     "text": [
      "\n"
     ]
    }
   ],
   "source": [
    "from pathlib import Path\n",
    "import sys\n",
    "import os\n",
    "from concurrent.futures import ThreadPoolExecutor, as_completed\n",
    "\n",
    "import numpy as np\n",
    "from Bio.SCOP import Scop\n",
    "from Bio import SeqIO\n",
    "from tqdm import tqdm_notebook as tqdm\n",
    "\n",
    "sys.path.append(Path().resolve().parent.as_posix())\n",
    "from machina.generate_models import BLASTModel\n",
    "\n",
    "\n",
    "def _process(args):\n",
    "    for a in args:\n",
    "        BLASTModel('deltablast', '/data/DB/blastdb').generate_protein_model(a[0], a[1], a[2], a[3], a[4])\n",
    "\n",
    "\n",
    "scop_root = Scop(dir_path='../data/train', version='1.75')\n",
    "test_domain = np.load('../data/test_domain_ids.npy')\n",
    "scop40 = SeqIO.index('../data/train/astral-scopdom-seqres-gd-sel-gs-bib-40-1.75.fa', 'fasta')\n",
    "with ThreadPoolExecutor(max_workers=os.cpu_count()) as executor:\n",
    "    futures = []\n",
    "    for query in test_domain:\n",
    "        domains = [_.sid for _ in scop_root.getDomainBySid(query).getAscendent('sf').getDescendents('px')\n",
    "                   if _.sid in scop40 and _.sid != query]\n",
    "        args = [(query, _,\n",
    "                 f'../data/evaluation/deltablast/{query}/{_}.xml',\n",
    "                 f'../data/evaluation/deltablast/{query}',\n",
    "                 f'../data/train/pdbstyle-1.75/{_[2:4]}') for _ in domains]\n",
    "        futures.append(executor.submit(_process, args))\n",
    "    [_ for _ in tqdm(as_completed(futures), total=len(futures))] # 7 min"
   ]
  },
  {
   "cell_type": "markdown",
   "metadata": {
    "ein.tags": "worksheet-0",
    "slideshow": {
     "slide_type": "-"
    }
   },
   "source": [
    "## HHsearch"
   ]
  },
  {
   "cell_type": "code",
   "execution_count": 1,
   "metadata": {
    "ExecuteTime": {
     "end_time": "2019-02-07T13:09:58.164860Z",
     "start_time": "2019-02-07T13:07:57.540752Z"
    },
    "autoscroll": false,
    "collapsed": false,
    "ein.hycell": false,
    "ein.tags": "worksheet-0",
    "slideshow": {
     "slide_type": "-"
    }
   },
   "outputs": [
    {
     "data": {
      "application/vnd.jupyter.widget-view+json": {
       "model_id": "753b8ec306df460ba9c7cf3e26915558",
       "version_major": 2,
       "version_minor": 0
      },
      "text/plain": [
       "HBox(children=(IntProgress(value=0, max=35), HTML(value='')))"
      ]
     },
     "metadata": {},
     "output_type": "display_data"
    },
    {
     "name": "stdout",
     "output_type": "stream",
     "text": [
      "\n"
     ]
    }
   ],
   "source": [
    "from pathlib import Path\n",
    "import sys\n",
    "\n",
    "import numpy as np\n",
    "from Bio.SCOP import Scop\n",
    "from Bio import SeqIO\n",
    "from tqdm import tqdm_notebook as tqdm\n",
    "\n",
    "sys.path.append(Path().resolve().parent.as_posix())\n",
    "from machina.generate_models import HHSearchModel\n",
    "\n",
    "\n",
    "scop_root = Scop(dir_path='../data/train', version='1.75')\n",
    "test_domain = np.load('../data/test_domain_ids.npy')\n",
    "scop40 = SeqIO.index('../data/train/astral-scopdom-seqres-gd-sel-gs-bib-40-1.75.fa', 'fasta')\n",
    "for query in tqdm(test_domain):\n",
    "    domains = [_.sid for _ in scop_root.getDomainBySid(query).getAscendent('sf').getDescendents('px')\n",
    "               if _.sid in scop40 and _.sid != query]\n",
    "    for domain in domains:\n",
    "        HHSearchModel('/data/DB/hhsuitedb').generate_pairwise_alignment(\n",
    "            query, domain, scop40[query], f'../data/evaluation/hhsearch/{query}') # 2 min or 12 hours"
   ]
  },
  {
   "cell_type": "code",
   "execution_count": 1,
   "metadata": {
    "ExecuteTime": {
     "end_time": "2019-02-07T13:50:08.886079Z",
     "start_time": "2019-02-07T13:41:29.182516Z"
    },
    "autoscroll": false,
    "collapsed": false,
    "ein.hycell": false,
    "ein.tags": "worksheet-0",
    "slideshow": {
     "slide_type": "-"
    }
   },
   "outputs": [
    {
     "data": {
      "application/vnd.jupyter.widget-view+json": {
       "model_id": "0f11dd14d79f4afca4b0dab3b4d1f7d7",
       "version_major": 2,
       "version_minor": 0
      },
      "text/plain": [
       "HBox(children=(IntProgress(value=0, max=35), HTML(value='')))"
      ]
     },
     "metadata": {},
     "output_type": "display_data"
    },
    {
     "name": "stdout",
     "output_type": "stream",
     "text": [
      "\n"
     ]
    }
   ],
   "source": [
    "from pathlib import Path\n",
    "import sys\n",
    "\n",
    "from tqdm import tqdm_notebook as tqdm\n",
    "import numpy as np\n",
    "from Bio.SCOP import Scop\n",
    "from Bio import SeqIO\n",
    "\n",
    "sys.path.append(Path().resolve().parent.as_posix())\n",
    "from machina.generate_models import HHSearchModel\n",
    "\n",
    "\n",
    "def _process(args):\n",
    "    for a in args:\n",
    "        HHSearchModel('/data/DB/hhsuitedb').generate_protein_model(a[0], a[1], a[2], a[3])\n",
    "\n",
    "\n",
    "scop_root = Scop(dir_path='../data/train', version='1.75')\n",
    "test_domain = np.load('../data/test_domain_ids.npy')\n",
    "scop40 = SeqIO.index('../data/train/astral-scopdom-seqres-gd-sel-gs-bib-40-1.75.fa', 'fasta')\n",
    "for query in tqdm(test_domain):\n",
    "    domains = [_.sid for _ in scop_root.getDomainBySid(query).getAscendent('sf').getDescendents('px')\n",
    "               if _.sid in scop40 and _.sid != query]\n",
    "    args = [(query, _, f'../data/evaluation/hhsearch/{query}', f'../data/train/pdbstyle-1.75/{_[2:4]}') for _ in domains]\n",
    "    _process(args)  # 9 min"
   ]
  }
 ],
 "metadata": {
  "kernelspec": {
   "display_name": "Python 3",
   "name": "python3"
  },
  "language_info": {
   "codemirror_mode": {
    "name": "ipython",
    "version": 3
   },
   "file_extension": ".py",
   "mimetype": "text/x-python",
   "name": "python",
   "nbconvert_exporter": "python",
   "pygments_lexer": "ipython3",
   "version": "3.6.3"
  },
  "name": "compare.ipynb",
  "toc": {
   "base_numbering": 1,
   "nav_menu": {
    "height": "48px",
    "width": "252px"
   },
   "number_sections": true,
   "sideBar": true,
   "skip_h1_title": true,
   "title_cell": "Table of Contents",
   "title_sidebar": "Contents",
   "toc_cell": false,
   "toc_position": {
    "height": "calc(100% - 180px)",
    "left": "10px",
    "top": "150px",
    "width": "336px"
   },
   "toc_section_display": true,
   "toc_window_display": false
  }
 },
 "nbformat": 4,
 "nbformat_minor": 2
}
