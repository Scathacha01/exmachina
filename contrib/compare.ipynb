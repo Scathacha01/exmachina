{
 "cells": [
  {
   "cell_type": "code",
   "execution_count": null,
   "metadata": {},
   "outputs": [],
   "source": [
    "from pathlib import Path\n",
    "import pickle\n",
    "from concurrent.futures import ProcessPoolExecutor, wait\n",
    "\n",
    "from tqdm import tqdm\n",
    "import numpy as np\n",
    "from Bio.SCOP import Scop\n",
    "from Bio import SeqIO\n",
    "from machina.generate_models import TMalignModel\n",
    "\n",
    "\n",
    "def _process(args):\n",
    "    aligns_list = SeqIO.index('data/train/scop40_structural_alignment.fasta', 'fasta')\n",
    "    for a in args:\n",
    "        TMalignModel().generate_protein_model(a[0], a[1], aligns_list, a[3])\n",
    "\n",
    "\n",
    "def main():\n",
    "    scop_root = Scop(dir_path=Path('data/scop'), version='1.75')\n",
    "    with Path('data/train/scop40_hie.pkl').open('rb') as f:\n",
    "        hie = pickle.load(f)\n",
    "    test_data = np.load('data/test/scop40.npy')\n",
    "    with ProcessPoolExecutor() as executor:\n",
    "        futures = []\n",
    "        for query in test_data:\n",
    "            query_sf = scop_root.getDomainBySid(query).getAscendent('sf').sunid\n",
    "            args = [(query, _, None, f'data/.tmalign_aln/{query}') for _ in hie[query_sf]]\n",
    "            futures.append(executor.submit(_process, args))\n",
    "        wait(futures)\n",
    "\n",
    "\n",
    "if __name__ == '__main__':\n",
    "    main()"
   ]
  },
  {
   "cell_type": "code",
   "execution_count": null,
   "metadata": {},
   "outputs": [],
   "source": [
    "from pathlib import Path\n",
    "import pickle\n",
    "from concurrent.futures import ProcessPoolExecutor, wait\n",
    "\n",
    "from tqdm import tqdm\n",
    "import numpy as np\n",
    "from Bio.SCOP import Scop\n",
    "from Bio import SeqIO\n",
    "from machina.generate_models import SWModel\n",
    "\n",
    "\n",
    "def _process(args):\n",
    "    aligns_list = SeqIO.index('data/train/scop40_structural_alignment.fasta', 'fasta')\n",
    "    for a in args:\n",
    "        SWModel(-11, -1).generate_protein_model(a[0], a[1], aligns_list, a[3])\n",
    "\n",
    "\n",
    "def main():\n",
    "    scop_root = Scop(dir_path=Path('data/scop'), version='1.75')\n",
    "    with Path('data/train/scop40_hie.pkl').open('rb') as f:\n",
    "        hie = pickle.load(f)\n",
    "    test_data = np.load('data/test/scop40.npy')\n",
    "    for query in tqdm(test_data):\n",
    "        query_sf = scop_root.getDomainBySid(query).getAscendent('sf').sunid\n",
    "        args = [(query, _, None, f'data/.sw_aln/open11_extend1/{query}') for _ in hie[query_sf]]\n",
    "        _process(args)\n",
    "\n",
    "\n",
    "if __name__ == '__main__':\n",
    "    main()"
   ]
  },
  {
   "cell_type": "code",
   "execution_count": null,
   "metadata": {},
   "outputs": [],
   "source": [
    "from pathlib import Path\n",
    "import pickle\n",
    "from concurrent.futures import ProcessPoolExecutor, wait\n",
    "\n",
    "from tqdm import tqdm\n",
    "import numpy as np\n",
    "from Bio.SCOP import Scop\n",
    "from machina.generate_models import BLASTModel\n",
    "\n",
    "\n",
    "def _process(args):\n",
    "    for a in args:\n",
    "        BLASTModel('deltablast').generate_protein_model(a[0], a[1], a[2], a[3])\n",
    "\n",
    "\n",
    "def main():\n",
    "    scop_root = Scop(dir_path=Path('data/scop'), version='1.75')\n",
    "    with Path('data/train/scop40_hie.pkl').open('rb') as f:\n",
    "        hie = pickle.load(f)\n",
    "    test_data = np.load('data/test/scop40.npy')\n",
    "    for query in tqdm(test_data):\n",
    "        query_sf = scop_root.getDomainBySid(query).getAscendent('sf').sunid\n",
    "        args = [(query, _, None, f'data/.deltablast_aln/{query}') for _ in hie[query_sf]]\n",
    "        _process(args)\n",
    "\n",
    "\n",
    "if __name__ == '__main__':\n",
    "    main()"
   ]
  },
  {
   "cell_type": "code",
   "execution_count": null,
   "metadata": {},
   "outputs": [],
   "source": [
    "from pathlib import Path\n",
    "import pickle\n",
    "from concurrent.futures import ProcessPoolExecutor, wait\n",
    "\n",
    "from tqdm import tqdm\n",
    "import numpy as np\n",
    "from Bio.SCOP import Scop\n",
    "from machina.generate_models import BLASTModel\n",
    "\n",
    "\n",
    "def _process(args):\n",
    "    for a in args:\n",
    "        BLASTModel('deltablast').generate_protein_model(a[0], a[1], a[2], a[3])\n",
    "\n",
    "\n",
    "def main():\n",
    "    scop_root = Scop(dir_path=Path('data/scop'), version='1.75')\n",
    "    with Path('data/train/scop40_hie.pkl').open('rb') as f:\n",
    "        hie = pickle.load(f)\n",
    "    test_data = np.load('data/test/scop40.npy')\n",
    "    for query in tqdm(test_data):\n",
    "        query_sf = scop_root.getDomainBySid(query).getAscendent('sf').sunid\n",
    "        args = [(query, _, None, f'data/.deltablast_aln/{query}') for _ in hie[query_sf]]\n",
    "        _process(args)\n",
    "\n",
    "\n",
    "if __name__ == '__main__':\n",
    "    main()\n"
   ]
  },
  {
   "cell_type": "code",
   "execution_count": 3,
   "metadata": {
    "ExecuteTime": {
     "end_time": "2018-10-29T13:27:43.799016Z",
     "start_time": "2018-10-29T13:27:37.239561Z"
    }
   },
   "outputs": [
    {
     "data": {
      "application/vnd.jupyter.widget-view+json": {
       "model_id": "002b6cdd811f410793400b4825cff1db",
       "version_major": 2,
       "version_minor": 0
      },
      "text/plain": [
       "HBox(children=(IntProgress(value=0, max=2844), HTML(value='')))"
      ]
     },
     "metadata": {},
     "output_type": "display_data"
    },
    {
     "name": "stdout",
     "output_type": "stream",
     "text": [
      "\n"
     ]
    },
    {
     "data": {
      "application/vnd.jupyter.widget-view+json": {
       "model_id": "841c91c887ef490cb150502ab41d0090",
       "version_major": 2,
       "version_minor": 0
      },
      "text/plain": [
       "HBox(children=(IntProgress(value=0, max=14), HTML(value='')))"
      ]
     },
     "metadata": {},
     "output_type": "display_data"
    },
    {
     "name": "stdout",
     "output_type": "stream",
     "text": [
      "d2axtu1 (a.60.12)\n",
      "d2axtd1 (f.26.1)\n",
      "\n"
     ]
    }
   ],
   "source": [
    "from pathlib import Path\n",
    "import pickle\n",
    "\n",
    "from tqdm import tqdm_notebook as tqdm\n",
    "import numpy as np\n",
    "from Bio.SCOP import Scop\n",
    "from machina.generate_models import HHSearchModel\n",
    "\n",
    "\n",
    "def _process(args):\n",
    "    for a in args:\n",
    "        HHSearchModel().generate_protein_model(a[0], a[1], a[2], a[3])\n",
    "\n",
    "\n",
    "def main():\n",
    "    hie = {}\n",
    "    for line in [_ for _ in Path('/data/DB/hhsuitedb/scop40_hhm.ffdata').read_text().splitlines() if _.startswith('NAME ')]:\n",
    "        domain_sid = line.split()[1]\n",
    "        sf_sccs = '.'.join(line.split()[2].split('.')[:3])\n",
    "        if sf_sccs not in hie:\n",
    "            hie[sf_sccs] = [domain_sid]\n",
    "        else:\n",
    "            hie[sf_sccs].append(domain_sid)\n",
    "    scop_root = Scop(dir_path=Path('data/scop'), version='1.75')\n",
    "    test_data = np.load('data/test/scop40.npy')\n",
    "    for query in tqdm(test_data):\n",
    "        query_sf = scop_root.getDomainBySid(query).getAscendent('sf').sccs\n",
    "        if query_sf not in hie:\n",
    "            print(f'{query} ({query_sf})')\n",
    "            continue\n",
    "        args = [(query, _, None, f'data/.hhsearch/{query}') for _ in hie[query_sf]]\n",
    "        _process(args)\n",
    "\n",
    "\n",
    "if __name__ == '__main__':\n",
    "    main()"
   ]
  },
  {
   "cell_type": "code",
   "execution_count": null,
   "metadata": {},
   "outputs": [],
   "source": []
  }
 ],
 "metadata": {
  "kernelspec": {
   "display_name": "Python 3",
   "language": "python",
   "name": "python3"
  },
  "language_info": {
   "codemirror_mode": {
    "name": "ipython",
    "version": 3
   },
   "file_extension": ".py",
   "mimetype": "text/x-python",
   "name": "python",
   "nbconvert_exporter": "python",
   "pygments_lexer": "ipython3",
   "version": "3.6.3"
  }
 },
 "nbformat": 4,
 "nbformat_minor": 2
}
