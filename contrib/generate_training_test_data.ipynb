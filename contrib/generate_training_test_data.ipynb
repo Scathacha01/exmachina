{
 "cells": [
  {
   "cell_type": "code",
   "execution_count": 1,
   "metadata": {
    "ExecuteTime": {
     "end_time": "2018-11-02T15:01:00.931277Z",
     "start_time": "2018-11-02T14:57:30.964966Z"
    }
   },
   "outputs": [
    {
     "name": "stderr",
     "output_type": "stream",
     "text": [
      "100%|██████████| 10569/10569 [03:27<00:00, 51.04it/s]\n"
     ]
    },
    {
     "data": {
      "text/plain": [
       "[('d1wlqc_', datetime.datetime(2009, 2, 17, 0, 0), 'a.4.5', 762),\n",
       " ('d2vy4a1', datetime.datetime(2009, 2, 17, 0, 0), 'g.37.1', 182),\n",
       " ('d2axtu1', datetime.datetime(2009, 2, 10, 0, 0), 'a.60.12', 159),\n",
       " ('d2zqna1', datetime.datetime(2009, 2, 10, 0, 0), 'b.42.2', 119),\n",
       " ('d1y5ha3', datetime.datetime(2009, 2, 10, 0, 0), 'd.37.1', 62),\n",
       " ('d1ni9a_', datetime.datetime(2009, 2, 10, 0, 0), 'e.7.1', 151),\n",
       " ('d2axtd1', datetime.datetime(2009, 2, 10, 0, 0), 'f.26.1', 174),\n",
       " ('d2axta1', datetime.datetime(2009, 2, 10, 0, 0), 'f.26.1', 174),\n",
       " ('d2axto1', datetime.datetime(2009, 2, 10, 0, 0), 'f.4.1', 15),\n",
       " ('d3d9ta1', datetime.datetime(2009, 2, 10, 0, 0), 'g.52.1', 81),\n",
       " ('d2pqrb1', datetime.datetime(2009, 1, 27, 0, 0), 'a.118.8', 121),\n",
       " ('d1wzca1', datetime.datetime(2009, 1, 27, 0, 0), 'c.108.1', 296),\n",
       " ('d1v7ra_', datetime.datetime(2009, 1, 27, 0, 0), 'c.51.4', 44),\n",
       " ('d2dsta1', datetime.datetime(2009, 1, 27, 0, 0), 'c.69.1', 975),\n",
       " ('d1qg3a1', datetime.datetime(2009, 1, 20, 0, 0), 'b.1.2', 344),\n",
       " ('d1qg3a2', datetime.datetime(2009, 1, 20, 0, 0), 'b.1.2', 344),\n",
       " ('d2a5za1', datetime.datetime(2009, 1, 20, 0, 0), 'b.29.1', 1081),\n",
       " ('d1wr8a_', datetime.datetime(2009, 1, 20, 0, 0), 'c.108.1', 296),\n",
       " ('d3ct6a1', datetime.datetime(2009, 1, 20, 0, 0), 'c.54.1', 19),\n",
       " ('d2nwua1', datetime.datetime(2009, 1, 20, 0, 0), 'd.77.1', 92),\n",
       " ('d2ogka1', datetime.datetime(2009, 1, 20, 0, 0), 'd.77.1', 92),\n",
       " ('d2nrqa1', datetime.datetime(2009, 1, 20, 0, 0), 'd.77.1', 92),\n",
       " ('d2pzza1', datetime.datetime(2009, 1, 20, 0, 0), 'd.77.1', 92),\n",
       " ('d2d1ha1', datetime.datetime(2009, 1, 13, 0, 0), 'a.4.5', 762),\n",
       " ('d1wv3a1', datetime.datetime(2009, 1, 13, 0, 0), 'b.26.1', 73),\n",
       " ('d1wv3a2', datetime.datetime(2009, 1, 13, 0, 0), 'b.26.1', 73),\n",
       " ('d1tvia_', datetime.datetime(2009, 1, 13, 0, 0), 'd.92.1', 474),\n",
       " ('d1t4ha_', datetime.datetime(2009, 1, 13, 0, 0), 'd.144.1', 808),\n",
       " ('d2jn6a1', datetime.datetime(2009, 1, 6, 0, 0), 'a.4.1', 430),\n",
       " ('d2ij2a1', datetime.datetime(2009, 1, 6, 0, 0), 'a.104.1', 242),\n",
       " ('d2feaa1', datetime.datetime(2009, 1, 6, 0, 0), 'c.108.1', 296),\n",
       " ('d3e2ba1', datetime.datetime(2009, 1, 6, 0, 0), 'd.39.1', 19),\n",
       " ('d2iiza1', datetime.datetime(2009, 1, 6, 0, 0), 'd.58.4', 177),\n",
       " ('d2jmua1', datetime.datetime(2009, 1, 6, 0, 0), 'd.63.1', 13),\n",
       " ('d2exfa1', datetime.datetime(2009, 1, 6, 0, 0), 'g.40.1', 25),\n",
       " ('d1y6kr1', datetime.datetime(2008, 12, 30, 0, 0), 'b.1.2', 344),\n",
       " ('d1y6kr2', datetime.datetime(2008, 12, 30, 0, 0), 'b.1.2', 344),\n",
       " ('d3etja1', datetime.datetime(2008, 12, 30, 0, 0), 'b.84.2', 68),\n",
       " ('d3etja2', datetime.datetime(2008, 12, 30, 0, 0), 'c.30.1', 194),\n",
       " ('d1xria_', datetime.datetime(2008, 12, 30, 0, 0), 'c.45.1', 189),\n",
       " ('d1k7ka_', datetime.datetime(2008, 12, 30, 0, 0), 'c.51.4', 44),\n",
       " ('d1xmba1', datetime.datetime(2008, 12, 30, 0, 0), 'c.56.5', 286),\n",
       " ('d2gvka1', datetime.datetime(2008, 12, 30, 0, 0), 'd.58.4', 177),\n",
       " ('d1xmba2', datetime.datetime(2008, 12, 30, 0, 0), 'd.58.19', 28),\n",
       " ('d3etja3', datetime.datetime(2008, 12, 30, 0, 0), 'd.142.1', 234),\n",
       " ('d1zr9a1', datetime.datetime(2008, 12, 30, 0, 0), 'g.37.1', 182),\n",
       " ('d3e5ua1', datetime.datetime(2008, 12, 23, 0, 0), 'a.4.5', 762),\n",
       " ('d1tw9a1', datetime.datetime(2008, 12, 23, 0, 0), 'a.45.1', 511),\n",
       " ('d3ctda1', datetime.datetime(2008, 12, 23, 0, 0), 'a.80.1', 64),\n",
       " ('d1nq7a_', datetime.datetime(2008, 12, 23, 0, 0), 'a.123.1', 497),\n",
       " ('d3d85d1', datetime.datetime(2008, 12, 23, 0, 0), 'b.1.1', 5565),\n",
       " ('d3d85d2', datetime.datetime(2008, 12, 23, 0, 0), 'b.1.2', 344),\n",
       " ('d3d85d3', datetime.datetime(2008, 12, 23, 0, 0), 'b.1.2', 344),\n",
       " ('d3e5ua2', datetime.datetime(2008, 12, 23, 0, 0), 'b.82.3', 91),\n",
       " ('d2a15a1', datetime.datetime(2008, 12, 23, 0, 0), 'd.17.4', 324),\n",
       " ('d1f9ya_', datetime.datetime(2008, 12, 23, 0, 0), 'd.58.30', 23),\n",
       " ('d3cmna1', datetime.datetime(2008, 12, 23, 0, 0), 'd.92.1', 474),\n",
       " ('d1r57a_', datetime.datetime(2008, 12, 23, 0, 0), 'd.108.1', 300),\n",
       " ('d2k2na1', datetime.datetime(2008, 12, 23, 0, 0), 'd.110.2', 51),\n",
       " ('d2ayja1', datetime.datetime(2008, 12, 23, 0, 0), 'g.41.8', 209),\n",
       " ('d2w0pa1', datetime.datetime(2008, 12, 16, 0, 0), 'b.1.18', 575),\n",
       " ('d1jhga_', datetime.datetime(2008, 12, 9, 0, 0), 'a.4.12', 38),\n",
       " ('d2ahua1', datetime.datetime(2008, 12, 9, 0, 0), 'c.124.1', 166),\n",
       " ('d2ahua2', datetime.datetime(2008, 12, 9, 0, 0), 'c.124.1', 166),\n",
       " ('d1vk1a_', datetime.datetime(2008, 12, 9, 0, 0), 'd.268.1', 19),\n",
       " ('d1tt8a_', datetime.datetime(2008, 12, 9, 0, 0), 'd.190.1', 47),\n",
       " ('d1pxfa_', datetime.datetime(2008, 12, 2, 0, 0), 'b.40.4', 734),\n",
       " ('d1u5ha_', datetime.datetime(2008, 12, 2, 0, 0), 'c.1.12', 191),\n",
       " ('d2g3wa1', datetime.datetime(2008, 12, 2, 0, 0), 'c.52.1', 229),\n",
       " ('d3b6oa1', datetime.datetime(2008, 12, 2, 0, 0), 'c.55.3', 502),\n",
       " ('d2e29a1', datetime.datetime(2008, 12, 2, 0, 0), 'd.58.7', 275),\n",
       " ('d2mhra_', datetime.datetime(2008, 11, 25, 0, 0), 'a.24.4', 37),\n",
       " ('d3es6b1', datetime.datetime(2008, 11, 25, 0, 0), 'b.1.18', 575),\n",
       " ('d1v3wa_', datetime.datetime(2008, 11, 25, 0, 0), 'b.81.1', 150),\n",
       " ('d2d59a1', datetime.datetime(2008, 11, 25, 0, 0), 'c.2.1', 2377),\n",
       " ('d3enba1', datetime.datetime(2008, 11, 25, 0, 0), 'c.55.3', 502),\n",
       " ('d2zdpa1', datetime.datetime(2008, 11, 25, 0, 0), 'd.58.4', 177),\n",
       " ('d2f2ea1', datetime.datetime(2008, 11, 18, 0, 0), 'a.4.5', 762),\n",
       " ('d2o5ua1', datetime.datetime(2008, 11, 18, 0, 0), 'd.38.1', 286),\n",
       " ('d2p49b1', datetime.datetime(2008, 11, 11, 0, 0), 'b.1.1', 5565),\n",
       " ('d3elna1', datetime.datetime(2008, 11, 11, 0, 0), 'b.82.1', 321),\n",
       " ('d1vp6a_', datetime.datetime(2008, 11, 11, 0, 0), 'b.82.3', 91),\n",
       " ('d1tv5a1', datetime.datetime(2008, 11, 11, 0, 0), 'c.1.4', 197),\n",
       " ('d1pv1a_', datetime.datetime(2008, 11, 11, 0, 0), 'c.69.1', 975),\n",
       " ('d3d1ma1', datetime.datetime(2008, 11, 11, 0, 0), 'd.65.1', 25),\n",
       " ('d3by8a1', datetime.datetime(2008, 11, 11, 0, 0), 'd.110.6', 26),\n",
       " ('d1wgua_', datetime.datetime(2008, 11, 4, 0, 0), 'b.55.1', 307),\n",
       " ('d1vlpa2', datetime.datetime(2008, 11, 4, 0, 0), 'c.1.17', 46),\n",
       " ('d2e1za1', datetime.datetime(2008, 11, 4, 0, 0), 'c.55.1', 649),\n",
       " ('d2e1za2', datetime.datetime(2008, 11, 4, 0, 0), 'c.55.1', 649),\n",
       " ('d2p3ra1', datetime.datetime(2008, 11, 4, 0, 0), 'c.55.1', 649),\n",
       " ('d2p3ra2', datetime.datetime(2008, 11, 4, 0, 0), 'c.55.1', 649),\n",
       " ('d2i7na1', datetime.datetime(2008, 11, 4, 0, 0), 'c.55.1', 649),\n",
       " ('d2i7na2', datetime.datetime(2008, 11, 4, 0, 0), 'c.55.1', 649),\n",
       " ('d1vlpa1', datetime.datetime(2008, 11, 4, 0, 0), 'd.41.2', 46),\n",
       " ('d1vq3a_', datetime.datetime(2008, 11, 4, 0, 0), 'd.284.1', 13),\n",
       " ('d1zyla1', datetime.datetime(2008, 11, 4, 0, 0), 'd.144.1', 808),\n",
       " ('d3d03a1', datetime.datetime(2008, 11, 4, 0, 0), 'd.159.1', 158),\n",
       " ('d2z9ia1', datetime.datetime(2008, 10, 28, 0, 0), 'b.36.1', 241),\n",
       " ('d2vxfa1', datetime.datetime(2008, 10, 28, 0, 0), 'b.38.1', 303)]"
      ]
     },
     "metadata": {},
     "output_type": "display_data"
    }
   ],
   "source": [
    "from pathlib import Path\n",
    "import datetime\n",
    "\n",
    "from Bio import SeqIO\n",
    "from Bio.PDB import PDBParser\n",
    "from IPython.display import display\n",
    "from tqdm import tqdm\n",
    "from Bio.SCOP import Scop\n",
    "\n",
    "scop = Scop(dir_path='data/scop', version='1.75')\n",
    "index = SeqIO.index('data/train/astral-scopdom-seqres-gd-sel-gs-bib-40-1.75.fa', 'fasta')\n",
    "result = []\n",
    "for key in tqdm(index):\n",
    "    try:\n",
    "        for line in Path(f'data/scop_e/{key[2:4]}/{key}.ent').read_text().splitlines():\n",
    "            if line.find('Source-PDB-REVDAT') > -1:\n",
    "                sf = scop.getDomainBySid(key).getAscendent('sf')\n",
    "                domains = sf.getDescendents('px')\n",
    "                result.append((key,\n",
    "                               datetime.datetime.strptime(line.split(':')[1].replace(' ', ''), '%d-%b-%y'),\n",
    "                               sf.sccs,\n",
    "                               len(domains)))\n",
    "                break\n",
    "    except FileNotFoundError:\n",
    "        pass\n",
    "result = sorted(result, key=lambda x: x[1], reverse=True)\n",
    "result = [x for x in result if x[3] > 10]\n",
    "display(result[:100])"
   ]
  },
  {
   "cell_type": "code",
   "execution_count": 4,
   "metadata": {
    "ExecuteTime": {
     "end_time": "2018-10-21T05:38:10.100246Z",
     "start_time": "2018-10-21T05:38:09.857851Z"
    }
   },
   "outputs": [
    {
     "data": {
      "text/html": [
       "<div>\n",
       "<style scoped>\n",
       "    .dataframe tbody tr th:only-of-type {\n",
       "        vertical-align: middle;\n",
       "    }\n",
       "\n",
       "    .dataframe tbody tr th {\n",
       "        vertical-align: top;\n",
       "    }\n",
       "\n",
       "    .dataframe thead th {\n",
       "        text-align: right;\n",
       "    }\n",
       "</style>\n",
       "<table border=\"1\" class=\"dataframe\">\n",
       "  <thead>\n",
       "    <tr style=\"text-align: right;\">\n",
       "      <th></th>\n",
       "      <th>0</th>\n",
       "    </tr>\n",
       "  </thead>\n",
       "  <tbody>\n",
       "    <tr>\n",
       "      <th>count</th>\n",
       "      <td>141422.000000</td>\n",
       "    </tr>\n",
       "    <tr>\n",
       "      <th>mean</th>\n",
       "      <td>0.648825</td>\n",
       "    </tr>\n",
       "    <tr>\n",
       "      <th>std</th>\n",
       "      <td>0.095905</td>\n",
       "    </tr>\n",
       "    <tr>\n",
       "      <th>min</th>\n",
       "      <td>0.500000</td>\n",
       "    </tr>\n",
       "    <tr>\n",
       "      <th>25%</th>\n",
       "      <td>0.572280</td>\n",
       "    </tr>\n",
       "    <tr>\n",
       "      <th>50%</th>\n",
       "      <td>0.635115</td>\n",
       "    </tr>\n",
       "    <tr>\n",
       "      <th>75%</th>\n",
       "      <td>0.712590</td>\n",
       "    </tr>\n",
       "    <tr>\n",
       "      <th>max</th>\n",
       "      <td>0.974390</td>\n",
       "    </tr>\n",
       "  </tbody>\n",
       "</table>\n",
       "</div>"
      ],
      "text/plain": [
       "                   0\n",
       "count  141422.000000\n",
       "mean        0.648825\n",
       "std         0.095905\n",
       "min         0.500000\n",
       "25%         0.572280\n",
       "50%         0.635115\n",
       "75%         0.712590\n",
       "max         0.974390"
      ]
     },
     "execution_count": 4,
     "metadata": {},
     "output_type": "execute_result"
    },
    {
     "data": {
      "image/png": "[encoded data removed]",
      "text/plain": [
       "<Figure size 432x288 with 1 Axes>"
      ]
     },
     "metadata": {
      "needs_background": "light"
     },
     "output_type": "display_data"
    }
   ],
   "source": [
    "%matplotlib inline\n",
    "\n",
    "from pathlib import Path\n",
    "import pickle\n",
    "import os\n",
    "from concurrent.futures import ThreadPoolExecutor, as_completed\n",
    "\n",
    "from tqdm import tqdm_notebook as tqdm\n",
    "import numpy as np\n",
    "import pandas\n",
    "import seaborn\n",
    "import itertools\n",
    "\n",
    "from machina.TMtoolsCommandLine import TMalignCommandLine\n",
    "\n",
    "\n",
    "# def process(c):\n",
    "#     tmalign = TMalignCommandLine(f'data/scop_e/{c[0][2:4]}/{c[0]}.ent',\n",
    "#                                  f'data/scop_e/{c[1][2:4]}/{c[1]}.ent')\n",
    "#     tmalign.run()\n",
    "#     return max(tmalign.tmscore)\n",
    "\n",
    "\n",
    "# with Path(f'data/train/scop40_hie.pkl').open('rb') as f:\n",
    "#     hie = pickle.load(f)\n",
    "# futures = []\n",
    "# with ThreadPoolExecutor(max_workers=os.cpu_count()) as executor:\n",
    "#     for px in tqdm(hie):\n",
    "#         if len(hie[px]) < 2:\n",
    "#             continue\n",
    "#         futures.extend([executor.submit(process, c) for c in itertools.combinations(hie[px], 2)])\n",
    "#     result = np.array([_.result() for _ in tqdm(as_completed(futures))])\n",
    "# np.save('tmscore_stats.npy', result)\n",
    "result = np.load('tmscore_stats.npy')\n",
    "result2 = result[result >= 0.5]\n",
    "result_df = pandas.DataFrame(result2)\n",
    "seaborn.boxplot(result_df)\n",
    "result_df.describe()"
   ]
  },
  {
   "cell_type": "code",
   "execution_count": null,
   "metadata": {},
   "outputs": [],
   "source": [
    "from Bio import SeqIO\n",
    "import numpy as np\n",
    "\n",
    "scop40_index = SeqIO.index('data/astral-scopdom-seqres-gd-sel-gs-bib-40-1.75.fa', 'fasta')\n",
    "train_ids = np.load('data/train/scop40_1fold.npy')\n",
    "out = []\n",
    "for t in train_ids:\n",
    "    out.append(scop40_index[t])\n",
    "SeqIO.write(out, 'data/blastdb/astral-scopdom-seqres-gd-sel-gs-bib-40-1.75_train_only.fasta', 'fasta')"
   ]
  },
  {
   "cell_type": "code",
   "execution_count": null,
   "metadata": {},
   "outputs": [],
   "source": [
    "from generate_training_dataset import *\n",
    "import itertools\n",
    "\n",
    "from matplotlib import pyplot\n",
    "import numpy as np\n",
    "from IPython.display import display\n",
    "\n",
    "pssm1 = parse_pssm('tests/data/pssm/1dlwa_.mtx')\n",
    "pssm2 = parse_pssm('tests/data/pssm/7hbia_.mtx')\n",
    "msa = parse_alignment('d1dlwa_', 'd7hbia_')\n",
    "\n",
    "rec, win = create_dataset(pssm1, pssm2, msa, Path('/dev/null').open('w'))\n",
    "\n",
    "pyplot.figure(figsize=(len(msa[0].seq.ungap('-'))*0.25, len(msa[1].seq.ungap('-'))*0.25))\n",
    "x, y = [0], [0]\n",
    "for i in range(msa.get_alignment_length()):\n",
    "    pyplot.axes().add_patch(pyplot.Rectangle((x[-1]-WINDOW_CENTER, y[-1]-WINDOW_CENTER),\n",
    "                                             WINDOW_WIDTH, WINDOW_WIDTH,\n",
    "                                             fill=False, color='green', alpha=1.0))\n",
    "    for a, b in itertools.product(range(WINDOW_WIDTH), range(WINDOW_WIDTH)):\n",
    "        if rec[i][a][b] is not None:\n",
    "            pyplot.axes().add_patch(\n",
    "                pyplot.Circle((x[-1]-WINDOW_CENTER+a+0.5, y[-1]-WINDOW_CENTER+b+0.5),\n",
    "                              radius=0.5, alpha=0.2, color='red'))\n",
    "        if win[i][a][b] == 1:\n",
    "            pyplot.axes().add_patch(\n",
    "                pyplot.Circle((x[-1]-WINDOW_CENTER+a+0.5, y[-1]-WINDOW_CENTER+b+0.5),\n",
    "                              radius=0.5, alpha=0.2, color='blue'))\n",
    "    if msa[0][i] == \"-\":\n",
    "        x.append(x[-1])\n",
    "        y.append(y[-1] + 1)\n",
    "    elif msa[1][i] == \"-\":\n",
    "        x.append(x[-1] + 1)\n",
    "        y.append(y[-1])\n",
    "    else:\n",
    "        x.append(x[-1] + 1)\n",
    "        y.append(y[-1] + 1)\n",
    "pyplot.yticks(np.arange(-5, len(msa[1].seq.ungap('-'))+5, 1))\n",
    "pyplot.xticks(np.arange(-5, len(msa[0].seq.ungap('-'))+5, 1))\n",
    "pyplot.grid(color='gray', linestyle='-')\n",
    "pyplot.plot(np.array(x), np.array(y))\n",
    "pyplot.show()"
   ]
  },
  {
   "cell_type": "markdown",
   "metadata": {},
   "source": [
    "構造アライメントチェッカー\n",
    "\n",
    "* 同じドメインの配列はすべて同じ長さになっていること\n",
    "  * TMalignのバグなのか、まれに同じドメインIDでも長さの異なる配列が混じっている時がある\n",
    "* PSSMの行数とドメイン配列の長さが一致していること"
   ]
  },
  {
   "cell_type": "code",
   "execution_count": 19,
   "metadata": {
    "ExecuteTime": {
     "end_time": "2018-10-14T02:35:34.784804Z",
     "start_time": "2018-10-14T02:11:21.369538Z"
    }
   },
   "outputs": [
    {
     "data": {
      "application/vnd.jupyter.widget-view+json": {
       "model_id": "91402ef711e748ec8077fa132badb83b",
       "version_major": 2,
       "version_minor": 0
      },
      "text/plain": [
       "HBox(children=(IntProgress(value=0, max=388946), HTML(value='')))"
      ]
     },
     "metadata": {},
     "output_type": "display_data"
    },
    {
     "data": {
      "application/vnd.jupyter.widget-view+json": {
       "model_id": "88fe0cbd3ac34ec696f5f454c0ab3902",
       "version_major": 2,
       "version_minor": 0
      },
      "text/plain": [
       "HBox(children=(IntProgress(value=0, max=9648), HTML(value='')))"
      ]
     },
     "metadata": {},
     "output_type": "display_data"
    },
    {
     "data": {
      "application/vnd.jupyter.widget-view+json": {
       "model_id": "5e4abd8f4179404193378f9ce9adc1a1",
       "version_major": 2,
       "version_minor": 0
      },
      "text/plain": [
       "HBox(children=(IntProgress(value=0, max=9648), HTML(value='')))"
      ]
     },
     "metadata": {},
     "output_type": "display_data"
    }
   ],
   "source": [
    "from pathlib import Path\n",
    "import os\n",
    "\n",
    "from Bio import SeqIO\n",
    "from Bio.SeqRecord import SeqRecord\n",
    "from Bio.Align import MultipleSeqAlignment\n",
    "from tqdm import tqdm_notebook as tqdm\n",
    "from Bio.Blast.Applications import NcbipsiblastCommandline\n",
    "from tqdm import tqdm_notebook\n",
    "\n",
    "from machina.generate_training_dataset import parse_pssm\n",
    "\n",
    "\n",
    "results = []\n",
    "seq_index = SeqIO.index('data/train/scop40_structural_alignment.fasta', 'fasta')\n",
    "for record_id in tqdm(seq_index):\n",
    "    l = record_id.split('&')\n",
    "    results.append(l[0])\n",
    "    results.append(l[1])\n",
    "for domain in tqdm(set(results)):\n",
    "    # Check length\n",
    "    try:\n",
    "        MultipleSeqAlignment([SeqRecord(seq_index[_].seq.ungap('-'), id=_) for _ in seq_index if _.startswith(f'{domain}&')])\n",
    "    except:\n",
    "        print(domain)\n",
    "for domain in tqdm(set(results)):\n",
    "    r = seq_index[[_ for _ in seq_index if _.startswith(f'{domain}&')][0]]\n",
    "    len1 = len(r.seq.ungap('-'))\n",
    "    len2 = len(parse_pssm(f'data/pssm/{domain[2:4]}/{domain}.mtx').pssm)\n",
    "    if len1 != len2:\n",
    "        print(domain)\n",
    "        SeqIO.write(SeqRecord(r.seq.ungap('-'), id=domain), f'{domain}.fasta', 'fasta')\n",
    "        NcbipsiblastCommandline(query=f'{domain}.fasta', db='/data/DB/blastdb/uniref90', num_threads=int(os.cpu_count()),\n",
    "                                num_iterations=3, out_ascii_pssm=f'data/pssm/{domain[2:4]}/{domain}.mtx',\n",
    "                                save_pssm_after_last_round=True)()\n",
    "        Path(f'{domain}.fasta').unlink()\n"
   ]
  },
  {
   "cell_type": "code",
   "execution_count": null,
   "metadata": {
    "ExecuteTime": {
     "end_time": "2018-10-16T08:10:12.330504Z",
     "start_time": "2018-10-16T08:01:15.240258Z"
    }
   },
   "outputs": [],
   "source": [
    "import os\n",
    "\n",
    "from machina.generate_training_dataset import create_scop40_dataset\n",
    "\n",
    "\n",
    "create_scop40_dataset(5, 0.5, os.cpu_count() - 1)"
   ]
  },
  {
   "cell_type": "code",
   "execution_count": null,
   "metadata": {
    "ExecuteTime": {
     "end_time": "2018-09-08T16:47:16.158102Z",
     "start_time": "2018-09-08T16:12:15.537980Z"
    }
   },
   "outputs": [],
   "source": [
    "from machina.conv_training_csv2npy import csv2npy_parted, csv2npy\n",
    "\n",
    "\n",
    "csv2npy(200, 'data/train/scop40_logscore_tmscore50_w5')  # Needs > 40GB RAM\n",
    "\n",
    "# csv2npy(360, 'data/train/scop40_tmscore50_w9')  # Needs > 200GB RAM\n",
    "# csv2npy_parted(360, 'data/train/scop40_tmscore50_w9')\n",
    "# csv2npy_parted(360, 'data/train/scop40_tmscore50_w9', n_part=3, n_sample=396540456)"
   ]
  },
  {
   "cell_type": "code",
   "execution_count": 2,
   "metadata": {
    "ExecuteTime": {
     "end_time": "2018-10-17T02:12:55.863820Z",
     "start_time": "2018-10-17T02:02:57.478101Z"
    }
   },
   "outputs": [
    {
     "name": "stdout",
     "output_type": "stream",
     "text": [
      "0.01\n",
      "(2150375, 200)\n",
      "(2150375,)\n",
      "(176007, 1)\n",
      "(1974368, 1)\n",
      "0.1\n",
      "(21503756, 200)\n",
      "(21503756,)\n",
      "(1763022, 1)\n",
      "(19740734, 1)\n"
     ]
    }
   ],
   "source": [
    "import numpy as np\n",
    "\n",
    "from machina.reduce_training_dataset import random_sampling, negative_down_sampling\n",
    "\n",
    "\n",
    "# negative_down_sampling('data/train/scop40_tmscore50_w9', 3)\n",
    "\n",
    "ratio = 0.01\n",
    "print(ratio)\n",
    "random_sampling('data/train/scop40_logscore_tmscore50_w5', ratio)\n",
    "X = np.load(f'data/train/scop40_logscore_tmscore50_w5_randomsampling_ratio{ratio}_x.npy')\n",
    "print(X.shape)\n",
    "Y = np.load(f'data/train/scop40_logscore_tmscore50_w5_randomsampling_ratio{ratio}_y.npy')\n",
    "print(Y.shape)\n",
    "print(np.argwhere(Y == 1).shape)\n",
    "print(np.argwhere(Y == 0).shape)\n",
    "\n",
    "ratio = 0.1\n",
    "print(ratio)\n",
    "random_sampling('data/train/scop40_logscore_tmscore50_w5', ratio)\n",
    "X = np.load(f'data/train/scop40_logscore_tmscore50_w5_randomsampling_ratio{ratio}_x.npy')\n",
    "print(X.shape)\n",
    "Y = np.load(f'data/train/scop40_logscore_tmscore50_w5_randomsampling_ratio{ratio}_y.npy')\n",
    "print(Y.shape)\n",
    "print(np.argwhere(Y == 1).shape)\n",
    "print(np.argwhere(Y == 0).shape)"
   ]
  },
  {
   "cell_type": "code",
   "execution_count": 3,
   "metadata": {
    "ExecuteTime": {
     "end_time": "2018-10-17T02:42:35.667689Z",
     "start_time": "2018-10-17T02:16:11.180207Z"
    }
   },
   "outputs": [
    {
     "data": {
      "application/vnd.jupyter.widget-view+json": {
       "model_id": "9958200171344f3f8b0a536c10e6acc0",
       "version_major": 2,
       "version_minor": 0
      },
      "text/plain": [
       "HBox(children=(IntProgress(value=0, max=14), HTML(value='')))"
      ]
     },
     "metadata": {},
     "output_type": "display_data"
    },
    {
     "name": "stdout",
     "output_type": "stream",
     "text": [
      "\n"
     ]
    },
    {
     "data": {
      "application/vnd.jupyter.widget-view+json": {
       "model_id": "206919f2a5a848db9298ea6ce97b9680",
       "version_major": 2,
       "version_minor": 0
      },
      "text/plain": [
       "HBox(children=(IntProgress(value=0, max=14), HTML(value='')))"
      ]
     },
     "metadata": {},
     "output_type": "display_data"
    },
    {
     "name": "stdout",
     "output_type": "stream",
     "text": [
      "\n"
     ]
    }
   ],
   "source": [
    "from pathlib import Path\n",
    "import pickle\n",
    "\n",
    "from tqdm import tqdm_notebook as tqdm\n",
    "from Bio.SCOP import Scop\n",
    "from Bio import SeqIO\n",
    "import numpy as np\n",
    "\n",
    "from machina.generate_training_dataset import get_validation_data\n",
    "\n",
    "\n",
    "db_index = SeqIO.index('data/train/scop40_structural_alignment.fasta', 'fasta')\n",
    "scop_root = Scop(dir_path=Path('data/scop'), version='1.75')\n",
    "test_data = np.load('data/test/scop40.npy')\n",
    "with Path('data/train/scop40_hie.pkl').open('rb') as f:\n",
    "    hie = pickle.load(f)\n",
    "\n",
    "for t in tqdm(test_data):\n",
    "    Path(f'data/test/{t}').mkdir(exist_ok=True)\n",
    "    query_sf_sunid = scop_root.getDomainBySid(t).getAscendent('sf').sunid\n",
    "    for d in hie[query_sf_sunid]:\n",
    "        x, y = get_validation_data(t, d, db_index, 5, 0)\n",
    "        np.save(f'data/test/{t}/{d}_x.npy', x)\n",
    "        np.save(f'data/test/{t}/{d}_y.npy', y)\n",
    "\n",
    "# Check shapes\n",
    "for t in tqdm(test_data):\n",
    "    query_sf_sunid = scop_root.getDomainBySid(t).getAscendent('sf').sunid\n",
    "    for d in hie[query_sf_sunid]:\n",
    "        x = np.load(f'data/test/{t}/{d}_x.npy')\n",
    "        y = np.load(f'data/test/{t}/{d}_y.npy')\n",
    "        assert x.shape[0] == y.shape[0] * y.shape[1]\n"
   ]
  }
 ],
 "metadata": {
  "kernelspec": {
   "display_name": "Python 3",
   "language": "python",
   "name": "python3"
  },
  "language_info": {
   "codemirror_mode": {
    "name": "ipython",
    "version": 3
   },
   "file_extension": ".py",
   "mimetype": "text/x-python",
   "name": "python",
   "nbconvert_exporter": "python",
   "pygments_lexer": "ipython3",
   "version": "3.6.3"
  },
  "toc": {
   "base_numbering": 1,
   "nav_menu": {},
   "number_sections": true,
   "sideBar": true,
   "skip_h1_title": false,
   "title_cell": "Table of Contents",
   "title_sidebar": "Contents",
   "toc_cell": false,
   "toc_position": {},
   "toc_section_display": true,
   "toc_window_display": false
  }
 },
 "nbformat": 4,
 "nbformat_minor": 2
}
