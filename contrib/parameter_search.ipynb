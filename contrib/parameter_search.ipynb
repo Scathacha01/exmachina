{
 "cells": [
  {
   "cell_type": "markdown",
   "metadata": {},
   "source": [
    "Search number of neighbors by AUC"
   ]
  },
  {
   "cell_type": "code",
   "execution_count": null,
   "metadata": {},
   "outputs": [],
   "source": [
    "from pathlib import Path\n",
    "import sys\n",
    "import random\n",
    "from concurrent.futures import ProcessPoolExecutor, wait\n",
    "\n",
    "from Bio.SCOP import Scop\n",
    "from Bio import SeqIO\n",
    "import numpy as np\n",
    "\n",
    "sys.path.append(Path().resolve().parent.as_posix())\n",
    "from machina.predict import predict_by_flann\n",
    "\n",
    "\n",
    "def process(n_neighbors):\n",
    "    scop_root = Scop(dir_path='../data/train', version='1.75')\n",
    "    scop40 = SeqIO.index('../data/train/astral-scopdom-seqres-gd-sel-gs-bib-40-1.75.fa', 'fasta')\n",
    "    args = []\n",
    "    for query in np.load('../data/hyperparam_validation_domain_ids.npy'):\n",
    "        for domain in scop_root.getDomainBySid(query).getAscendent('sf').getDescendents('px'):\n",
    "            if domain.sid in scop40:\n",
    "                args.append((query, domain.sid))\n",
    "    random.shuffle(args)\n",
    "    predict_by_flann('../data/train/scop40_logscore_tmscore0.5_window5_ratio0.1_x.npy',\n",
    "                     '../data/train/scop40_logscore_tmscore0.5_window5_ratio0.1_y.npy',\n",
    "                     '../data/train/flann19_scop40_logscore_tmscore0.5_window5_ratio0.1',\n",
    "                     n_neighbors,\n",
    "                     f'../data/prediction/flann19_scop40_logscore_tmscore0.5_window5_ratio0.1_nn{n_neighbors}',\n",
    "                     '../data/train/pssm',\n",
    "                     args)\n",
    "\n",
    "with ProcessPoolExecutor(max_workers=6) as executor:\n",
    "    wait([executor.submit(process, 10) for _ in range(6)])\n",
    "with ProcessPoolExecutor(max_workers=6) as executor:\n",
    "    wait([executor.submit(process, 100) for _ in range(6)])\n",
    "with ProcessPoolExecutor(max_workers=6) as executor:\n",
    "    wait([executor.submit(process, 1000) for _ in range(6)])"
   ]
  },
  {
   "cell_type": "code",
   "execution_count": 3,
   "metadata": {
    "ExecuteTime": {
     "end_time": "2019-02-04T14:39:34.713745Z",
     "start_time": "2019-02-04T14:39:26.272971Z"
    }
   },
   "outputs": [
    {
     "data": {
      "application/vnd.jupyter.widget-view+json": {
       "model_id": "8336a90664f44d17b578c96b4abc24f4",
       "version_major": 2,
       "version_minor": 0
      },
      "text/plain": [
       "HBox(children=(IntProgress(value=0, max=7), HTML(value='')))"
      ]
     },
     "metadata": {},
     "output_type": "display_data"
    },
    {
     "name": "stdout",
     "output_type": "stream",
     "text": [
      "\n"
     ]
    },
    {
     "data": {
      "text/html": [
       "<div>\n",
       "<style scoped>\n",
       "    .dataframe tbody tr th:only-of-type {\n",
       "        vertical-align: middle;\n",
       "    }\n",
       "\n",
       "    .dataframe tbody tr th {\n",
       "        vertical-align: top;\n",
       "    }\n",
       "\n",
       "    .dataframe thead th {\n",
       "        text-align: right;\n",
       "    }\n",
       "</style>\n",
       "<table border=\"1\" class=\"dataframe\">\n",
       "  <thead>\n",
       "    <tr style=\"text-align: right;\">\n",
       "      <th></th>\n",
       "      <th>d3ctda1</th>\n",
       "      <th>d3e5ua2</th>\n",
       "      <th>d1xmba1</th>\n",
       "      <th>d2jmua1</th>\n",
       "      <th>d2zd1b1</th>\n",
       "      <th>d3cx5e2</th>\n",
       "      <th>d2vuti1</th>\n",
       "    </tr>\n",
       "  </thead>\n",
       "  <tbody>\n",
       "    <tr>\n",
       "      <th>count</th>\n",
       "      <td>12.000000</td>\n",
       "      <td>15.000000</td>\n",
       "      <td>32.000000</td>\n",
       "      <td>4.000000</td>\n",
       "      <td>22.000000</td>\n",
       "      <td>3.000000</td>\n",
       "      <td>64.000000</td>\n",
       "    </tr>\n",
       "    <tr>\n",
       "      <th>mean</th>\n",
       "      <td>0.671848</td>\n",
       "      <td>0.813931</td>\n",
       "      <td>0.607767</td>\n",
       "      <td>0.577905</td>\n",
       "      <td>0.563720</td>\n",
       "      <td>0.658413</td>\n",
       "      <td>0.682096</td>\n",
       "    </tr>\n",
       "    <tr>\n",
       "      <th>std</th>\n",
       "      <td>0.103475</td>\n",
       "      <td>0.070257</td>\n",
       "      <td>0.058273</td>\n",
       "      <td>0.029357</td>\n",
       "      <td>0.027847</td>\n",
       "      <td>0.152972</td>\n",
       "      <td>0.064378</td>\n",
       "    </tr>\n",
       "    <tr>\n",
       "      <th>min</th>\n",
       "      <td>0.538960</td>\n",
       "      <td>0.718549</td>\n",
       "      <td>0.523048</td>\n",
       "      <td>0.552336</td>\n",
       "      <td>0.520638</td>\n",
       "      <td>0.530639</td>\n",
       "      <td>0.537079</td>\n",
       "    </tr>\n",
       "    <tr>\n",
       "      <th>25%</th>\n",
       "      <td>0.619365</td>\n",
       "      <td>0.753074</td>\n",
       "      <td>0.563906</td>\n",
       "      <td>0.555999</td>\n",
       "      <td>0.548612</td>\n",
       "      <td>0.573659</td>\n",
       "      <td>0.635900</td>\n",
       "    </tr>\n",
       "    <tr>\n",
       "      <th>50%</th>\n",
       "      <td>0.647361</td>\n",
       "      <td>0.800648</td>\n",
       "      <td>0.607675</td>\n",
       "      <td>0.571761</td>\n",
       "      <td>0.559389</td>\n",
       "      <td>0.616680</td>\n",
       "      <td>0.680737</td>\n",
       "    </tr>\n",
       "    <tr>\n",
       "      <th>75%</th>\n",
       "      <td>0.666200</td>\n",
       "      <td>0.883535</td>\n",
       "      <td>0.633281</td>\n",
       "      <td>0.593667</td>\n",
       "      <td>0.571287</td>\n",
       "      <td>0.722300</td>\n",
       "      <td>0.727007</td>\n",
       "    </tr>\n",
       "    <tr>\n",
       "      <th>max</th>\n",
       "      <td>0.887330</td>\n",
       "      <td>0.918483</td>\n",
       "      <td>0.818621</td>\n",
       "      <td>0.615764</td>\n",
       "      <td>0.626592</td>\n",
       "      <td>0.827921</td>\n",
       "      <td>0.829523</td>\n",
       "    </tr>\n",
       "  </tbody>\n",
       "</table>\n",
       "</div>"
      ],
      "text/plain": [
       "         d3ctda1    d3e5ua2    d1xmba1   d2jmua1    d2zd1b1   d3cx5e2  \\\n",
       "count  12.000000  15.000000  32.000000  4.000000  22.000000  3.000000   \n",
       "mean    0.671848   0.813931   0.607767  0.577905   0.563720  0.658413   \n",
       "std     0.103475   0.070257   0.058273  0.029357   0.027847  0.152972   \n",
       "min     0.538960   0.718549   0.523048  0.552336   0.520638  0.530639   \n",
       "25%     0.619365   0.753074   0.563906  0.555999   0.548612  0.573659   \n",
       "50%     0.647361   0.800648   0.607675  0.571761   0.559389  0.616680   \n",
       "75%     0.666200   0.883535   0.633281  0.593667   0.571287  0.722300   \n",
       "max     0.887330   0.918483   0.818621  0.615764   0.626592  0.827921   \n",
       "\n",
       "         d2vuti1  \n",
       "count  64.000000  \n",
       "mean    0.682096  \n",
       "std     0.064378  \n",
       "min     0.537079  \n",
       "25%     0.635900  \n",
       "50%     0.680737  \n",
       "75%     0.727007  \n",
       "max     0.829523  "
      ]
     },
     "metadata": {},
     "output_type": "display_data"
    },
    {
     "data": {
      "application/vnd.jupyter.widget-view+json": {
       "model_id": "c8955aa6d3bd4af1af6aa9db6816359c",
       "version_major": 2,
       "version_minor": 0
      },
      "text/plain": [
       "HBox(children=(IntProgress(value=0, max=7), HTML(value='')))"
      ]
     },
     "metadata": {},
     "output_type": "display_data"
    },
    {
     "name": "stdout",
     "output_type": "stream",
     "text": [
      "\n"
     ]
    },
    {
     "ename": "IndexError",
     "evalue": "too many indices for array",
     "output_type": "error",
     "traceback": [
      "\u001b[0;31m---------------------------------------------------------------------------\u001b[0m",
      "\u001b[0;31mIndexError\u001b[0m                                Traceback (most recent call last)",
      "\u001b[0;32m<ipython-input-3-56c9144e0254>\u001b[0m in \u001b[0;36m<module>\u001b[0;34m\u001b[0m\n\u001b[1;32m     60\u001b[0m                      \u001b[0mpalette\u001b[0m\u001b[0;34m=\u001b[0m\u001b[0mseaborn\u001b[0m\u001b[0;34m.\u001b[0m\u001b[0mcolor_palette\u001b[0m\u001b[0;34m(\u001b[0m\u001b[0;34m'Blues_d'\u001b[0m\u001b[0;34m,\u001b[0m \u001b[0mlen\u001b[0m\u001b[0;34m(\u001b[0m\u001b[0mauc_d\u001b[0m\u001b[0;34m[\u001b[0m\u001b[0mquery\u001b[0m\u001b[0;34m]\u001b[0m\u001b[0;34m)\u001b[0m\u001b[0;34m)\u001b[0m\u001b[0;34m,\u001b[0m\u001b[0;34m\u001b[0m\u001b[0m\n\u001b[1;32m     61\u001b[0m                      \u001b[0mhue_order\u001b[0m\u001b[0;34m=\u001b[0m\u001b[0msorted\u001b[0m\u001b[0;34m(\u001b[0m\u001b[0mrange\u001b[0m\u001b[0;34m(\u001b[0m\u001b[0mlen\u001b[0m\u001b[0;34m(\u001b[0m\u001b[0mauc_d\u001b[0m\u001b[0;34m[\u001b[0m\u001b[0mquery\u001b[0m\u001b[0;34m]\u001b[0m\u001b[0;34m)\u001b[0m\u001b[0;34m)\u001b[0m\u001b[0;34m,\u001b[0m \u001b[0mkey\u001b[0m\u001b[0;34m=\u001b[0m\u001b[0;32mlambda\u001b[0m \u001b[0m_\u001b[0m\u001b[0;34m:\u001b[0m \u001b[0mauc_d\u001b[0m\u001b[0;34m[\u001b[0m\u001b[0mquery\u001b[0m\u001b[0;34m]\u001b[0m\u001b[0;34m[\u001b[0m\u001b[0m_\u001b[0m\u001b[0;34m]\u001b[0m\u001b[0;34m,\u001b[0m \u001b[0mreverse\u001b[0m\u001b[0;34m=\u001b[0m\u001b[0;32mTrue\u001b[0m\u001b[0;34m)\u001b[0m\u001b[0;34m,\u001b[0m\u001b[0;34m\u001b[0m\u001b[0m\n\u001b[0;32m---> 62\u001b[0;31m                      ax=axes[int(i/7), i%7], legend=False)\n\u001b[0m\u001b[1;32m     63\u001b[0m     \u001b[0mavgauc\u001b[0m \u001b[0;34m=\u001b[0m \u001b[0mauc_df\u001b[0m\u001b[0;34m[\u001b[0m\u001b[0mquery\u001b[0m\u001b[0;34m]\u001b[0m\u001b[0;34m.\u001b[0m\u001b[0mmean\u001b[0m\u001b[0;34m(\u001b[0m\u001b[0;34m)\u001b[0m\u001b[0;34m\u001b[0m\u001b[0m\n\u001b[1;32m     64\u001b[0m     \u001b[0maxes\u001b[0m\u001b[0;34m[\u001b[0m\u001b[0mint\u001b[0m\u001b[0;34m(\u001b[0m\u001b[0mi\u001b[0m\u001b[0;34m/\u001b[0m\u001b[0;36m7\u001b[0m\u001b[0;34m)\u001b[0m\u001b[0;34m,\u001b[0m \u001b[0mi\u001b[0m\u001b[0;34m%\u001b[0m\u001b[0;36m7\u001b[0m\u001b[0;34m]\u001b[0m\u001b[0;34m.\u001b[0m\u001b[0mset_title\u001b[0m\u001b[0;34m(\u001b[0m\u001b[0;34mf'{query} ({avgauc:.2f})'\u001b[0m\u001b[0;34m)\u001b[0m\u001b[0;34m\u001b[0m\u001b[0m\n",
      "\u001b[0;31mIndexError\u001b[0m: too many indices for array"
     ]
    },
    {
     "data": {
      "image/png": "[encoded data removed]",
      "text/plain": [
       "<Figure size 5040x720 with 7 Axes>"
      ]
     },
     "metadata": {
      "needs_background": "light"
     },
     "output_type": "display_data"
    }
   ],
   "source": [
    "%matplotlib inline\n",
    "\n",
    "from pathlib import Path\n",
    "import sys\n",
    "\n",
    "from tqdm import tqdm_notebook as tqdm\n",
    "from Bio.SCOP import Scop\n",
    "from Bio import SeqIO\n",
    "import numpy as np\n",
    "from sklearn import metrics\n",
    "from matplotlib import pyplot\n",
    "import seaborn\n",
    "import pandas\n",
    "from IPython.display import display\n",
    "\n",
    "sys.path.append(Path().resolve().parent.as_posix())\n",
    "from machina.generate_training_dataset import get_validation_label\n",
    "\n",
    "scop_root = Scop(dir_path='../data/train', version='1.75')\n",
    "test_domain = np.load('../data/hyperparam_validation_domain_ids.npy')\n",
    "scop40 = SeqIO.index('../data/train/astral-scopdom-seqres-gd-sel-gs-bib-40-1.75.fa', 'fasta')\n",
    "structural_alignments = SeqIO.index('../data/train/scop40_structural_alignment.fasta', 'fasta')\n",
    "\n",
    "# Get ROC and calculate AUC\n",
    "auc_d = {}\n",
    "roc_d = {}\n",
    "for query in tqdm(test_domain):\n",
    "    auc_d[query] = []\n",
    "    roc_d[query] = {}\n",
    "    roc_d[query]['fpr'] = []\n",
    "    roc_d[query]['tpr'] = []\n",
    "    roc_d[query]['index'] = []\n",
    "    i = 0\n",
    "    for domain in [_.sid for _ in scop_root.getDomainBySid(query).getAscendent('sf').getDescendents('px')]:\n",
    "        if domain not in scop40:\n",
    "            continue\n",
    "        if domain == query:\n",
    "            continue\n",
    "        test = get_validation_label(query, domain, structural_alignments, '../data/train/pssm').flatten()\n",
    "        pred = np.load(f'../data/prediction/flann19_scop40_logscore_tmscore0.5_window5_ratio0.1_nn100/{query}/{domain}.npy').flatten()\n",
    "        assert test.shape[0] == pred.shape[0]\n",
    "        fpr, tpr, _ = metrics.roc_curve(test, pred)\n",
    "        auc_d[query].append(metrics.auc(fpr, tpr))\n",
    "        roc_d[query]['fpr'].extend(fpr)\n",
    "        roc_d[query]['tpr'].extend(tpr)\n",
    "        roc_d[query]['index'].extend([i]*len(fpr))\n",
    "        i += 1\n",
    "\n",
    "auc_df = pandas.DataFrame.from_dict(auc_d, orient='index')\n",
    "auc_df = auc_df.transpose()\n",
    "display(auc_df.describe())\n",
    "\n",
    "# Visualize\n",
    "fig, axes = pyplot.subplots(1, 7, figsize=(70, 10))\n",
    "# seaborn.set_context('talk')\n",
    "i = 0\n",
    "for query in tqdm(test_domain):\n",
    "    roc_df = pandas.DataFrame.from_dict(roc_d[query])\n",
    "    seaborn.lineplot(x='fpr', y='tpr', data=roc_df, hue='index', linewidth=.6,\n",
    "                     palette=seaborn.color_palette('Blues_d', len(auc_d[query])),\n",
    "                     hue_order=sorted(range(len(auc_d[query])), key=lambda _: auc_d[query][_], reverse=True),\n",
    "                     ax=axes[int(i/7), i%7], legend=False)\n",
    "    avgauc = auc_df[query].mean()\n",
    "    axes[int(i/7), i%7].set_title(f'{query} ({avgauc:.2f})')\n",
    "    axes[int(i/7), i%7].set_xlabel('')\n",
    "    axes[int(i/7), i%7].set_ylabel('')\n",
    "    i += 1"
   ]
  },
  {
   "cell_type": "markdown",
   "metadata": {},
   "source": [
    "Train, Validation, Test data Checker"
   ]
  },
  {
   "cell_type": "code",
   "execution_count": 1,
   "metadata": {
    "ExecuteTime": {
     "end_time": "2018-11-05T08:37:52.496483Z",
     "start_time": "2018-11-05T08:37:49.665049Z"
    },
    "code_folding": []
   },
   "outputs": [],
   "source": [
    "from pathlib import Path\n",
    "import pickle\n",
    "\n",
    "import numpy as np\n",
    "from Bio.SCOP import Scop\n",
    "\n",
    "validation_data = np.load('data/test/scop40.npy')\n",
    "scop_root = Scop(dir_path='data/scop', version='1.75')\n",
    "with Path('data/train/scop40_hie.pkl').open('rb') as f:\n",
    "    scop40_hie = pickle.load(f)\n",
    "for k in scop40_hie:\n",
    "    for d in scop40_hie[k]:\n",
    "        assert d not in validation_data"
   ]
  },
  {
   "cell_type": "markdown",
   "metadata": {},
   "source": [
    "KFold split"
   ]
  },
  {
   "cell_type": "code",
   "execution_count": 3,
   "metadata": {
    "ExecuteTime": {
     "end_time": "2018-11-07T12:47:14.847829Z",
     "start_time": "2018-11-07T12:47:09.173635Z"
    },
    "scrolled": false
   },
   "outputs": [
    {
     "name": "stdout",
     "output_type": "stream",
     "text": [
      "210\n"
     ]
    }
   ],
   "source": [
    "from pathlib import Path\n",
    "import pickle\n",
    "from concurrent.futures import ProcessPoolExecutor, wait\n",
    "import random\n",
    "\n",
    "from Bio.SCOP import Scop\n",
    "from sklearn.model_selection import KFold\n",
    "from IPython.display import display\n",
    "import numpy as np\n",
    "\n",
    "from machina.predict import predict_by_flann\n",
    "\n",
    "\n",
    "validation_data = np.load('data/test/scop40.npy')\n",
    "scop_root = Scop(dir_path='data/scop', version='1.75')\n",
    "with Path('data/train/scop40_hie.pkl').open('rb') as f:\n",
    "    scop40_hie = pickle.load(f)\n",
    "scop40_hie_10 = [_ for _ in scop40_hie if len(scop40_hie[_]) > 10]\n",
    "print(len(scop40_hie_10))\n",
    "kfold = []\n",
    "for _, test in list(KFold(n_splits=4, shuffle=True).split(scop40_hie_10)):\n",
    "    kfold.append([random.choice(scop40_hie[scop40_hie_10[__]]) for __ in test])\n",
    "# np.save(fname, np.array(kfold))"
   ]
  },
  {
   "cell_type": "markdown",
   "metadata": {},
   "source": [
    "Prediction"
   ]
  },
  {
   "cell_type": "code",
   "execution_count": null,
   "metadata": {},
   "outputs": [],
   "source": [
    "from pathlib import Path\n",
    "from concurrent.futures import ProcessPoolExecutor, wait\n",
    "\n",
    "from Bio.SCOP import Scop\n",
    "from sklearn.model_selection import KFold\n",
    "from IPython.display import display\n",
    "import numpy as np\n",
    "\n",
    "from machina.predict import predict_by_flann\n",
    "\n",
    "\n",
    "validation_data = np.load('data/test/scop40.npy')\n",
    "scop_root = Scop(dir_path='data/scop', version='1.75')\n",
    "with Path('data/train/scop40_hie.pkl').open('rb') as f:\n",
    "    scop40_hie = pickle.load(f)\n",
    "kfolds = np.load(f'data/train/scop40_over10_4fold.npy')\n",
    "model_name = 'flann19_scop40_logscore_tmscore50_w5_randomsampling_ratio0.1'\n",
    "num_neighbors = 1000  # or 100\n",
    "x = np.load(\n",
    "    'data/train/scop40_logscore_tmscore50_w5_randomsampling_ratio0.1_x.npy')\n",
    "y = np.load(\n",
    "    'data/train/scop40_logscore_tmscore50_w5_randomsampling_ratio0.1_y.npy')\n",
    "\n",
    "\n",
    "def process():\n",
    "    for fold in kfolds:\n",
    "        for query in fold:\n",
    "            assert query not in validation_data\n",
    "            args = [(query, _) for _ in scop40_hie[scop_root.getDomainBySid(\n",
    "                query).getAscendent('sf').sunid]]\n",
    "            random.shuffle(args)\n",
    "            predict_by_flann(x, y, 200, model_name, num_neighbors, args)\n",
    "\n",
    "\n",
    "workers = 4\n",
    "with ProcessPoolExecutor(max_workers=workers) as executor:\n",
    "    wait([executor.submit(process) for _ in range(workers)])"
   ]
  },
  {
   "cell_type": "markdown",
   "metadata": {},
   "source": [
    "Alignment generation"
   ]
  },
  {
   "cell_type": "code",
   "execution_count": null,
   "metadata": {},
   "outputs": [],
   "source": [
    "from pathlib import Path\n",
    "import pickle\n",
    "from concurrent.futures import ProcessPoolExecutor, as_completed\n",
    "import random\n",
    "\n",
    "from tqdm import tqdm\n",
    "import numpy as np\n",
    "from Bio.SCOP import Scop\n",
    "\n",
    "from machina.generate_alignment import generate_alignment\n",
    "\n",
    "\n",
    "with Path('data/train/scop40_hie.pkl').open('rb') as f:\n",
    "    scop40_hie = pickle.load(f)\n",
    "scop_root = Scop(dir_path='data/scop', version='1.75')\n",
    "model_name = 'flann19_scop40_logscore_tmscore50_w5_randomsampling_ratio0.1_nn1000'  # or nn100\n",
    "result_dir = Path('results')/model_name\n",
    "GRID_GAP_OPEN = (-0.01, -0.05, -0.1, -0.5, -1.0)\n",
    "GRID_GAP_EXTEND = (-0.001, -0.005, -0.01, -0.05, -0.1)\n",
    "\n",
    "\n",
    "for GAP_OPEN in tqdm(GRID_GAP_OPEN):\n",
    "    for GAP_EXTEND in tqdm(GRID_GAP_EXTEND):\n",
    "        if GAP_OPEN > GAP_EXTEND:\n",
    "            continue\n",
    "        for fold in np.load('data/train/scop40_over10_4fold.npy'):\n",
    "            random.shuffle(fold)\n",
    "            for query in fold:\n",
    "                result_file = result_dir / \\\n",
    "                    Path(f'{query}_open{-GAP_OPEN}_extend{-GAP_EXTEND}.npy')\n",
    "                if result_file.exists():\n",
    "                    continue\n",
    "                with ProcessPoolExecutor() as executor:\n",
    "                    futures = []\n",
    "                    for template in scop40_hie[scop_root.getDomainBySid(query).getAscendent('sf').sunid]:\n",
    "                        futures.append(executor.submit(\n",
    "                            generate_alignment, Path(f'data/prediction/{model_name}/{query}/{template}.npy'), GAP_OPEN, GAP_EXTEND))\n",
    "                    results = [_.result() for _ in as_completed(futures)]\n",
    "                np.save(result_file, np.array(results))"
   ]
  },
  {
   "cell_type": "code",
   "execution_count": null,
   "metadata": {},
   "outputs": [],
   "source": [
    "from pathlib import Path\n",
    "import pickle\n",
    "from concurrent.futures import ProcessPoolExecutor, wait\n",
    "import random\n",
    "\n",
    "from tqdm import tqdm\n",
    "import numpy as np\n",
    "from Bio.SCOP import Scop\n",
    "\n",
    "from machina.generate_models import MachinaModel\n",
    "\n",
    "\n",
    "with Path('data/train/scop40_hie.pkl').open('rb') as f:\n",
    "    scop40_hie = pickle.load(f)\n",
    "scop_root = Scop(dir_path='data/scop', version='1.75')\n",
    "model_name = 'flann19_scop40_logscore_tmscore50_w5_randomsampling_ratio0.1_nn1000'  # or 100\n",
    "result_dir = Path('results')/model_name\n",
    "GRID_GAP_OPEN = (-0.01, -0.05, -0.1, -0.5, -1.0)\n",
    "GRID_GAP_EXTEND = (-0.001, -0.005, -0.01, -0.05, -0.1)\n",
    "\n",
    "\n",
    "def _process(args):\n",
    "    for a in args:\n",
    "        MachinaModel().generate_protein_model(a[0], a[1], a[2], a[3])\n",
    "\n",
    "\n",
    "for GAP_OPEN in tqdm(GRID_GAP_OPEN):\n",
    "    for GAP_EXTEND in tqdm(GRID_GAP_EXTEND):\n",
    "        if GAP_OPEN > GAP_EXTEND:\n",
    "            continue\n",
    "        for fold in np.load('data/train/scop40_over10_4fold.npy'):\n",
    "            random.shuffle(fold)\n",
    "            with ProcessPoolExecutor() as executor:\n",
    "                futures = []\n",
    "                for query in fold:\n",
    "                    aligns_list = np.load(\n",
    "                        result_dir/Path(f'{query}_open{-GAP_OPEN}_extend{-GAP_EXTEND}.npy'))\n",
    "                    out_dir = f'results/{model_name}/open{-GAP_OPEN}extend{-GAP_EXTEND}/{query}'\n",
    "                    l = [(query, template, aligns_list, out_dir) for template in scop40_hie[scop_root.getDomainBySid(query).getAscendent('sf').sunid]\n",
    "                    futures.append(executor.submit(generate_alignment, l)\n",
    "                wait(futures)"
   ]
  },
  {
   "cell_type": "code",
   "execution_count": null,
   "metadata": {},
   "outputs": [],
   "source": [
    "from pathlib import Path\n",
    "import pickle\n",
    "from concurrent.futures import ThreadPoolExecutor, as_completed\n",
    "\n",
    "from Bio.SCOP import Scop\n",
    "import numpy as np\n",
    "from tqdm import tqdm\n",
    "import pandas\n",
    "\n",
    "from machina.TMtoolsCommandLine import TMalignCommandLine\n",
    "\n",
    "\n",
    "scop_root = Scop(dir_path=Path('data/scop'), version='1.75')\n",
    "with Path('data/train/scop40_hie.pkl').open('rb') as f:\n",
    "    scop40_hie = pickle.load(f)\n",
    "test_data = np.load('data/test/scop40.npy')\n",
    "model_name = 'flann19_scop40_logscore_tmscore50_w5_randomsampling_ratio0.1_nn1000'  # or 100\n",
    "GRID_GAP_OPEN = (-0.01, -0.05, -0.1, -0.5, -1.0)\n",
    "GRID_GAP_EXTEND = (-0.001, -0.005, -0.01, -0.05, -0.1)\n",
    "\n",
    "\n",
    "def _process(pdb_file, query_sid):\n",
    "    tmalign = TMalignCommandLine(pdb_file, f'data/scop_e/{query_sid[2:4]}/{query_sid}.ent')\n",
    "    tmalign.run()\n",
    "    if tmalign.tmscore is None:\n",
    "        return None\n",
    "    else:\n",
    "        return tmalign.tmscore[1]\n",
    "\n",
    "\n",
    "nfold = 1\n",
    "for fold in tqdm(np.load('data/train/scop40_over10_4fold.npy')):\n",
    "    result_d = {}\n",
    "    for GAP_OPEN in GRID_GAP_OPEN:\n",
    "        for GAP_EXTEND in GRID_GAP_EXTEND:\n",
    "            if GAP_EXTEND < GAP_OPEN:\n",
    "                continue\n",
    "            with ThreadPoolExecutor() as executor:\n",
    "                futures = []\n",
    "                for query in fold:\n",
    "                    pdb_list = [f'results/{model_name}/open{-GAP_OPEN}extend{-GAP_EXTEND}/{query}/{_}.pdb'\n",
    "                                for _ in scop40_hie[scop_root.getDomainBySid(query).getAscendent('sf').sunid] if _ != query]\n",
    "                    futures.extend([executor.submit(_process, _, query) for _ in pdb_list])\n",
    "                result_d[f'{-GAP_OPEN}\\n{-GAP_EXTEND}'] = [_.result() for _ in as_completed(futures)]\n",
    "    pandas.DataFrame.from_dict(result_d, orient='index').transpose().to_csv(f'result_fold{nfold}_{model_name}.csv')\n",
    "    nfold += 1"
   ]
  },
  {
   "cell_type": "code",
   "execution_count": 22,
   "metadata": {
    "ExecuteTime": {
     "end_time": "2018-11-10T08:35:13.351617Z",
     "start_time": "2018-11-10T08:35:11.130629Z"
    },
    "scrolled": false
   },
   "outputs": [
    {
     "data": {
      "text/plain": [
       "<matplotlib.axes._subplots.AxesSubplot at 0x2b0c890f9898>"
      ]
     },
     "execution_count": 22,
     "metadata": {},
     "output_type": "execute_result"
    },
    {
     "data": {
      "image/png": "[encoded data removed]",
      "text/plain": [
       "<Figure size 1152x1152 with 2 Axes>"
      ]
     },
     "metadata": {
      "needs_background": "light"
     },
     "output_type": "display_data"
    },
    {
     "data": {
      "image/png": "[encoded data removed]",
      "text/plain": [
       "<Figure size 1152x1152 with 2 Axes>"
      ]
     },
     "metadata": {
      "needs_background": "light"
     },
     "output_type": "display_data"
    }
   ],
   "source": [
    "%matplotlib inline\n",
    "\n",
    "import pandas\n",
    "from matplotlib import pyplot\n",
    "import seaborn as sns\n",
    "import numpy as np\n",
    "\n",
    "GRID_GAP_OPEN = (-0.01, -0.05, -0.1, -0.5, -1.0)\n",
    "GRID_GAP_EXTEND = (-0.001, -0.005, -0.01, -0.05, -0.1)\n",
    "\n",
    "model_name = 'flann19_scop40_logscore_tmscore50_w5_randomsampling_ratio0.1_nn1000'  # or 100\n",
    "\n",
    "grid_d = {}\n",
    "for GAP_OPEN in GRID_GAP_OPEN:\n",
    "    grid_d[f'{-GAP_OPEN}'] = {}\n",
    "    for GAP_EXTEND in GRID_GAP_EXTEND:\n",
    "        if GAP_EXTEND < GAP_OPEN:\n",
    "            continue\n",
    "        mean = [pandas.read_csv(f'result_fold{i+1}_{model_name}.csv')[f'{-GAP_OPEN}\\n{-GAP_EXTEND}'].mean() for i in range(4)]\n",
    "        grid_d[f'{-GAP_OPEN}'][f'{-GAP_EXTEND}'] = np.array(mean).mean()\n",
    "grid_df = pandas.DataFrame.from_dict(grid_d)\n",
    "fig, ax = pyplot.subplots(figsize=(16, 16))\n",
    "sns.heatmap(grid_df, ax=ax, linewidths=0, square=True, annot=True, fmt='.4g')\n",
    "\n",
    "model_name = 'flann19_scop40_logscore_tmscore50_w5_randomsampling_ratio0.1_nn100'  # or 100\n",
    "\n",
    "grid_d = {}\n",
    "for GAP_OPEN in GRID_GAP_OPEN:\n",
    "    grid_d[f'{-GAP_OPEN}'] = {}\n",
    "    for GAP_EXTEND in GRID_GAP_EXTEND:\n",
    "        if GAP_EXTEND < GAP_OPEN:\n",
    "            continue\n",
    "        mean = [pandas.read_csv(f'result_fold{i+1}_{model_name}.csv')[f'{-GAP_OPEN}\\n{-GAP_EXTEND}'].mean() for i in range(4)]\n",
    "        grid_d[f'{-GAP_OPEN}'][f'{-GAP_EXTEND}'] = np.array(mean).mean()\n",
    "grid_df = pandas.DataFrame.from_dict(grid_d)\n",
    "fig, ax = pyplot.subplots(figsize=(16, 16))\n",
    "sns.heatmap(grid_df, ax=ax, linewidths=0, square=True, annot=True, fmt='.4g')"
   ]
  }
 ],
 "metadata": {
  "kernelspec": {
   "display_name": "Python 3",
   "language": "python",
   "name": "python3"
  },
  "language_info": {
   "codemirror_mode": {
    "name": "ipython",
    "version": 3
   },
   "file_extension": ".py",
   "mimetype": "text/x-python",
   "name": "python",
   "nbconvert_exporter": "python",
   "pygments_lexer": "ipython3",
   "version": "3.6.3"
  },
  "toc": {
   "base_numbering": 1,
   "nav_menu": {},
   "number_sections": true,
   "sideBar": false,
   "skip_h1_title": true,
   "title_cell": "Table of Contents",
   "title_sidebar": "Contents",
   "toc_cell": false,
   "toc_position": {},
   "toc_section_display": true,
   "toc_window_display": false
  }
 },
 "nbformat": 4,
 "nbformat_minor": 2
}
