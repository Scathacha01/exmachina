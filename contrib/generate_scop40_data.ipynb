{
 "cells": [
  {
   "cell_type": "code",
   "execution_count": 1,
   "metadata": {},
   "outputs": [],
   "source": [
    "%reload_ext autoreload\n",
    "%autoreload 2"
   ]
  },
  {
   "cell_type": "markdown",
   "metadata": {},
   "source": [
    "See TM-score stats"
   ]
  },
  {
   "cell_type": "code",
   "execution_count": 17,
   "metadata": {
    "ExecuteTime": {
     "end_time": "2019-01-21T04:35:28.924685Z",
     "start_time": "2019-01-21T04:35:19.487282Z"
    },
    "scrolled": false
   },
   "outputs": [
    {
     "data": {
      "application/vnd.jupyter.widget-view+json": {
       "model_id": "692a6b5f14984b3e9b43739cde483e6c",
       "version_major": 2,
       "version_minor": 0
      },
      "text/plain": [
       "HBox(children=(IntProgress(value=0, max=194473), HTML(value='')))"
      ]
     },
     "metadata": {},
     "output_type": "display_data"
    },
    {
     "name": "stdout",
     "output_type": "stream",
     "text": [
      "\n"
     ]
    },
    {
     "data": {
      "text/html": [
       "<div>\n",
       "<style scoped>\n",
       "    .dataframe tbody tr th:only-of-type {\n",
       "        vertical-align: middle;\n",
       "    }\n",
       "\n",
       "    .dataframe tbody tr th {\n",
       "        vertical-align: top;\n",
       "    }\n",
       "\n",
       "    .dataframe thead th {\n",
       "        text-align: right;\n",
       "    }\n",
       "</style>\n",
       "<table border=\"1\" class=\"dataframe\">\n",
       "  <thead>\n",
       "    <tr style=\"text-align: right;\">\n",
       "      <th></th>\n",
       "      <th>0</th>\n",
       "    </tr>\n",
       "  </thead>\n",
       "  <tbody>\n",
       "    <tr>\n",
       "      <th>count</th>\n",
       "      <td>193933.000000</td>\n",
       "    </tr>\n",
       "    <tr>\n",
       "      <th>mean</th>\n",
       "      <td>0.585738</td>\n",
       "    </tr>\n",
       "    <tr>\n",
       "      <th>std</th>\n",
       "      <td>0.135622</td>\n",
       "    </tr>\n",
       "    <tr>\n",
       "      <th>min</th>\n",
       "      <td>0.170450</td>\n",
       "    </tr>\n",
       "    <tr>\n",
       "      <th>25%</th>\n",
       "      <td>0.489830</td>\n",
       "    </tr>\n",
       "    <tr>\n",
       "      <th>50%</th>\n",
       "      <td>0.587880</td>\n",
       "    </tr>\n",
       "    <tr>\n",
       "      <th>75%</th>\n",
       "      <td>0.680510</td>\n",
       "    </tr>\n",
       "    <tr>\n",
       "      <th>max</th>\n",
       "      <td>0.974390</td>\n",
       "    </tr>\n",
       "  </tbody>\n",
       "</table>\n",
       "</div>"
      ],
      "text/plain": [
       "                   0\n",
       "count  193933.000000\n",
       "mean        0.585738\n",
       "std         0.135622\n",
       "min         0.170450\n",
       "25%         0.489830\n",
       "50%         0.587880\n",
       "75%         0.680510\n",
       "max         0.974390"
      ]
     },
     "execution_count": 17,
     "metadata": {},
     "output_type": "execute_result"
    },
    {
     "data": {
      "image/png": "[encoded data removed]",
      "text/plain": [
       "<Figure size 432x288 with 1 Axes>"
      ]
     },
     "metadata": {},
     "output_type": "display_data"
    }
   ],
   "source": [
    "%matplotlib inline\n",
    "\n",
    "from pathlib import Path\n",
    "import pickle\n",
    "import os\n",
    "import sys\n",
    "from concurrent.futures import ThreadPoolExecutor, as_completed\n",
    "\n",
    "from tqdm import tqdm_notebook as tqdm\n",
    "import numpy as np\n",
    "import pandas\n",
    "import seaborn\n",
    "import itertools\n",
    "from Bio.SCOP import Scop\n",
    "from Bio import SeqIO\n",
    "\n",
    "sys.path.append(Path().resolve().parent)\n",
    "from machina.TMtoolsCommandLine import TMalignCommandLine\n",
    "\n",
    "\n",
    "def process(c):\n",
    "    tmalign = TMalignCommandLine(f'../data/train/pdbstyle-1.75/{c[0][2:4]}/{c[0]}.ent',\n",
    "                                 f'../data/train/pdbstyle-1.75/{c[1][2:4]}/{c[1]}.ent')\n",
    "    tmalign.run()\n",
    "    return max(tmalign.tmscore)\n",
    "\n",
    "\n",
    "def scop40_sf_hie():\n",
    "    scop = Scop(dir_path='../data/train', version='1.75')\n",
    "    result = {}\n",
    "    for key in SeqIO.index('../data/train/astral-scopdom-seqres-gd-sel-gs-bib-40-1.75.fa', 'fasta'):\n",
    "        domain = scop.getDomainBySid(key)\n",
    "        if domain is None:\n",
    "            assert key.startswith('g')\n",
    "            continue\n",
    "        sf = domain.getAscendent('sf')\n",
    "        result.setdefault(sf.sccs, [])\n",
    "        result[sf.sccs].append(key)\n",
    "    return result\n",
    "\n",
    "result_file = Path('../data/scop40_structural_alignment_stats.npy')\n",
    "if not result_file.exists():\n",
    "    hie = scop40_sf_hie()\n",
    "    futures = []\n",
    "    with ThreadPoolExecutor(max_workers=os.cpu_count()) as executor:\n",
    "        for px in [_ for _ in hie if len(hie[_]) > 1]:\n",
    "            for c in itertools.combinations(hie[px], 2):\n",
    "                futures.append(executor.submit(process, c))\n",
    "        result = [_.result() for _ in tqdm(as_completed(futures), total=len(futures))]\n",
    "    np.save(result_file, np.array(result))\n",
    "\n",
    "result = np.load(result_file)\n",
    "result_df = pandas.DataFrame(result)\n",
    "seaborn.boxplot(result_df)\n",
    "result_df.describe()"
   ]
  },
  {
   "cell_type": "markdown",
   "metadata": {},
   "source": [
    "Sort SCOP40 domains by superfamily size and revision date\n",
    "\n",
    "These are candidates for test data, and others will be for training data."
   ]
  },
  {
   "cell_type": "code",
   "execution_count": 4,
   "metadata": {
    "ExecuteTime": {
     "end_time": "2019-02-04T15:50:46.052077Z",
     "start_time": "2019-02-04T15:50:35.717678Z"
    },
    "scrolled": false
   },
   "outputs": [
    {
     "data": {
      "application/vnd.jupyter.widget-view+json": {
       "model_id": "ebae046aa3d64f49aee93d509536788b",
       "version_major": 2,
       "version_minor": 0
      },
      "text/plain": [
       "HBox(children=(IntProgress(value=0, max=10569), HTML(value='')))"
      ]
     },
     "metadata": {},
     "output_type": "display_data"
    },
    {
     "name": "stdout",
     "output_type": "stream",
     "text": [
      "\n",
      "('d2pzza1', datetime.datetime(2009, 1, 20, 0, 0), 'd.77.1', 92)\n"
     ]
    },
    {
     "data": {
      "text/plain": [
       "[('d1wlqc_', datetime.datetime(2009, 2, 17, 0, 0), 'a', '4', '5', 762),\n",
       " ('d2axtu1', datetime.datetime(2009, 2, 10, 0, 0), 'a', '60', '12', 159),\n",
       " ('d2pqrb1', datetime.datetime(2009, 1, 27, 0, 0), 'a', '118', '8', 121),\n",
       " ('d3cr3a1', datetime.datetime(2009, 1, 20, 0, 0), 'a', '208', '1', 6),\n",
       " ('d2jn6a1', datetime.datetime(2009, 1, 6, 0, 0), 'a', '4', '1', 430),\n",
       " ('d2zqna1', datetime.datetime(2009, 2, 10, 0, 0), 'b', '42', '2', 119),\n",
       " ('d1qg3a1', datetime.datetime(2009, 1, 20, 0, 0), 'b', '1', '2', 344),\n",
       " ('d2a5za1', datetime.datetime(2009, 1, 20, 0, 0), 'b', '29', '1', 1081),\n",
       " ('d1wv3a1', datetime.datetime(2009, 1, 13, 0, 0), 'b', '26', '1', 73),\n",
       " ('d3etja1', datetime.datetime(2008, 12, 30, 0, 0), 'b', '84', '2', 68),\n",
       " ('d2w6ka1', datetime.datetime(2009, 2, 17, 0, 0), 'c', '151', '1', 4),\n",
       " ('d1wzca1', datetime.datetime(2009, 1, 27, 0, 0), 'c', '108', '1', 296),\n",
       " ('d1v7ra_', datetime.datetime(2009, 1, 27, 0, 0), 'c', '51', '4', 44),\n",
       " ('d2dsta1', datetime.datetime(2009, 1, 27, 0, 0), 'c', '69', '1', 975),\n",
       " ('d3ct6a1', datetime.datetime(2009, 1, 20, 0, 0), 'c', '54', '1', 19),\n",
       " ('d1y5ha3', datetime.datetime(2009, 2, 10, 0, 0), 'd', '37', '1', 62),\n",
       " ('d2nwua1', datetime.datetime(2009, 1, 20, 0, 0), 'd', '77', '1', 92),\n",
       " ('d1tvia_', datetime.datetime(2009, 1, 13, 0, 0), 'd', '92', '1', 474),\n",
       " ('d1t4ha_', datetime.datetime(2009, 1, 13, 0, 0), 'd', '144', '1', 808),\n",
       " ('d1th5a1', datetime.datetime(2009, 1, 6, 0, 0), 'd', '52', '8', 7),\n",
       " ('d1ni9a_', datetime.datetime(2009, 2, 10, 0, 0), 'e', '7', '1', 151),\n",
       " ('d3cw9a1', datetime.datetime(2008, 9, 2, 0, 0), 'e', '23', '1', 22),\n",
       " ('d3beca2', datetime.datetime(2008, 8, 26, 0, 0), 'e', '3', '1', 414),\n",
       " ('d2qv7a1', datetime.datetime(2008, 8, 5, 0, 0), 'e', '52', '1', 31),\n",
       " ('d1wuil1', datetime.datetime(2008, 6, 24, 0, 0), 'e', '18', '1', 34),\n",
       " ('d2axte1', datetime.datetime(2009, 2, 10, 0, 0), 'f', '23', '38', 2),\n",
       " ('d2axtd1', datetime.datetime(2009, 2, 10, 0, 0), 'f', '26', '1', 174),\n",
       " ('d2axtb1', datetime.datetime(2009, 2, 10, 0, 0), 'f', '55', '1', 2),\n",
       " ('d2axto1', datetime.datetime(2009, 2, 10, 0, 0), 'f', '4', '1', 15),\n",
       " ('d3dtub2', datetime.datetime(2008, 9, 30, 0, 0), 'f', '17', '2', 46),\n",
       " ('d2vy4a1', datetime.datetime(2009, 2, 17, 0, 0), 'g', '37', '1', 182),\n",
       " ('d3d9ta1', datetime.datetime(2009, 2, 10, 0, 0), 'g', '52', '1', 81),\n",
       " ('d2exfa1', datetime.datetime(2009, 1, 6, 0, 0), 'g', '40', '1', 25),\n",
       " ('d2ayja1', datetime.datetime(2008, 12, 23, 0, 0), 'g', '41', '8', 209),\n",
       " ('d3dplr1', datetime.datetime(2008, 9, 30, 0, 0), 'g', '44', '1', 50)]"
      ]
     },
     "metadata": {},
     "output_type": "display_data"
    },
    {
     "data": {
      "text/plain": [
       "[('d2ij2a1', datetime.datetime(2009, 1, 6, 0, 0), 'a', '104', '1', 242),\n",
       " ('d3d85d1', datetime.datetime(2008, 12, 23, 0, 0), 'b', '1', '1', 5565),\n",
       " ('d3etja2', datetime.datetime(2008, 12, 30, 0, 0), 'c', '30', '1', 194),\n",
       " ('d2iiza1', datetime.datetime(2009, 1, 6, 0, 0), 'd', '58', '4', 177),\n",
       " ('d1wuis1', datetime.datetime(2008, 6, 24, 0, 0), 'e', '19', '1', 34),\n",
       " ('d3dhwa1', datetime.datetime(2008, 8, 5, 0, 0), 'f', '58', '1', 12),\n",
       " ('d3d4ub1', datetime.datetime(2008, 9, 2, 0, 0), 'g', '9', '1', 62)]"
      ]
     },
     "metadata": {},
     "output_type": "display_data"
    },
    {
     "data": {
      "text/plain": [
       "[('d1tw9a1', datetime.datetime(2008, 12, 23, 0, 0), 'a', '45', '1', 511),\n",
       " ('d3e5ua2', datetime.datetime(2008, 12, 23, 0, 0), 'b', '82', '3', 91),\n",
       " ('d1xria_', datetime.datetime(2008, 12, 30, 0, 0), 'c', '45', '1', 189),\n",
       " ('d2jmua1', datetime.datetime(2009, 1, 6, 0, 0), 'd', '63', '1', 13),\n",
       " ('d2zd1b1', datetime.datetime(2008, 2, 12, 0, 0), 'e', '8', '1', 622),\n",
       " ('d2zfga1', datetime.datetime(2008, 7, 29, 0, 0), 'f', '4', '3', 101),\n",
       " ('d2vuti1', datetime.datetime(2008, 7, 29, 0, 0), 'g', '39', '1', 367)]"
      ]
     },
     "metadata": {},
     "output_type": "display_data"
    }
   ],
   "source": [
    "from pathlib import Path\n",
    "from datetime import datetime\n",
    "\n",
    "from Bio import SeqIO\n",
    "from Bio.PDB import PDBParser\n",
    "from IPython.display import display\n",
    "from tqdm import tqdm_notebook as tqdm\n",
    "from Bio.SCOP import Scop\n",
    "import numpy as np\n",
    "\n",
    "scop = Scop(dir_path='../data/train', version='1.75')\n",
    "index = SeqIO.index('../data/train/astral-scopdom-seqres-gd-sel-gs-bib-40-1.75.fa', 'fasta')\n",
    "result = []\n",
    "for key in tqdm(index):\n",
    "    try:\n",
    "        for line in Path(f'../data/train/pdbstyle-1.75/{key[2:4]}/{key}.ent').read_text().splitlines():\n",
    "            if line.find('Source-PDB-REVDAT') > -1:\n",
    "                domains = scop.getDomainBySid(key).getAscendent('sf').getDescendents('px')\n",
    "                cl = scop.getDomainBySid(key).getAscendent('sf').sccs.split('.')[0]\n",
    "                fl = scop.getDomainBySid(key).getAscendent('sf').sccs.split('.')[1]\n",
    "                sf = scop.getDomainBySid(key).getAscendent('sf').sccs.split('.')[2]\n",
    "                result.append((key,\n",
    "                               datetime.strptime(line.split(':')[1].replace(' ', ''), '%d-%b-%y'),\n",
    "                               cl, fl, sf,\n",
    "                               len(domains)))\n",
    "                break\n",
    "    except FileNotFoundError:\n",
    "        assert key.startswith('g')\n",
    "\n",
    "result = sorted(result, key=lambda x: x[1], reverse=True)\n",
    "\n",
    "test_dict = {}\n",
    "for c in ['a', 'b', 'c', 'd', 'e', 'f', 'g']:\n",
    "    test_dict[c] = []\n",
    "    for r in [_ for _ in result if _[2] == c]:\n",
    "        if len(test_dict[c]) == 7:\n",
    "            break\n",
    "        if r[3:5] not in [_[3:5] for _ in test_dict[c]]:\n",
    "            if len([_ for _ in scop.getDomainBySid(r[0]).getAscendent('sf').getDescendents('px') if _.sid in index]) > 1:\n",
    "                test_dict[c].append(r)\n",
    "test_list = [__ for _ in test_dict.values() for __ in _[:5]]\n",
    "\n",
    "old_test_data = (\n",
    "    ('d1wlqc_', datetime(2009, 2, 17, 0, 0), 'a.4.5', 762),\n",
    "    ('d2axtu1', datetime(2009, 2, 10, 0, 0), 'a.60.12', 159),\n",
    "    ('d2zqna1', datetime(2009, 2, 10, 0, 0), 'b.42.2', 119),\n",
    "    ('d1qg3a1', datetime(2009, 1, 20, 0, 0), 'b.1.2', 344),\n",
    "    ('d1wzca1', datetime(2009, 1, 27, 0, 0), 'c.108.1', 296),\n",
    "    ('d2dsta1', datetime(2009, 1, 27, 0, 0), 'c.69.1', 975),\n",
    "    ('d1y5ha3', datetime(2009, 2, 10, 0, 0), 'd.37.1', 62),\n",
    "    ('d2pzza1', datetime(2009, 1, 20, 0, 0), 'd.77.1', 92), # This is replaced by ('d2nwua1', (2009, 1, 20, 0, 0), 'd', '77', '1', 92)\n",
    "    ('d1ni9a_', datetime(2009, 2, 10, 0, 0), 'e.7.1', 151),\n",
    "    ('d3cw9a1', datetime(2008, 9, 2, 0, 0), 'e.23.1', 22),\n",
    "    ('d2axtd1', datetime(2009, 2, 10, 0, 0), 'f.26.1', 174),\n",
    "    ('d2axto1', datetime(2009, 2, 10, 0, 0), 'f.4.1', 15),\n",
    "    ('d2vy4a1', datetime(2009, 2, 17, 0, 0), 'g.37.1', 182),\n",
    "    ('d3d9ta1', datetime(2009, 2, 10, 0, 0), 'g.52.1', 81),\n",
    ")\n",
    "\n",
    "for t in old_test_data:\n",
    "    if t[0] not in [_[0] for _ in test_list]:\n",
    "        print(t)\n",
    "\n",
    "display(test_list)\n",
    "\n",
    "np.save('../data/test_domain_ids.npy', np.array([_[0] for _ in test_list]))\n",
    "\n",
    "validate_gap_list = [__ for _ in test_dict.values() for __ in _[5:6]]\n",
    "display(validate_gap_list)\n",
    "np.save('../data/gap_validation_domain_ids.npy', np.array([_[0] for _ in validate_gap_list]))\n",
    "validate_hyperparam_list = [_[6] for _ in test_dict.values()]\n",
    "display(validate_hyperparam_list)\n",
    "np.save('../data/hyperparam_validation_domain_ids.npy', np.array([_[0] for _ in validate_hyperparam_list]))"
   ]
  },
  {
   "cell_type": "markdown",
   "metadata": {},
   "source": [
    "Generate structural alignments of SCOP40 domains in each superfamilies (by TM-align)"
   ]
  },
  {
   "cell_type": "code",
   "execution_count": null,
   "metadata": {
    "ExecuteTime": {
     "start_time": "2019-01-28T15:27:02.848Z"
    }
   },
   "outputs": [],
   "source": [
    "from pathlib import Path\n",
    "import sys\n",
    "\n",
    "sys.path.append(Path().resolve().parent.as_posix())\n",
    "from machina.generate_structural_alignment import generate_structural_alignments\n",
    "\n",
    "# 90 min\n",
    "generate_structural_alignments('../data/train/astral-scopdom-seqres-gd-sel-gs-bib-40-1.75.fa',\n",
    "                               '../data/train', '1.75', '../data/train/pdbstyle-1.75', '../data/train/scop40_structural_alignment.fasta')"
   ]
  },
  {
   "cell_type": "code",
   "execution_count": 7,
   "metadata": {
    "ExecuteTime": {
     "end_time": "2019-01-30T15:42:45.679311Z",
     "start_time": "2019-01-30T15:42:39.389530Z"
    }
   },
   "outputs": [
    {
     "name": "stderr",
     "output_type": "stream",
     "text": [
      "100%|██████████| 9648/9648 [00:00<00:00, 41263.02it/s]\n"
     ]
    }
   ],
   "source": [
    "import sys\n",
    "\n",
    "sys.path.append(Path().resolve().parent.as_posix())\n",
    "from machina.generate_sequence_profile import generate_sequence_profiles\n",
    "\n",
    "generate_sequence_profiles('../data/train/scop40_structural_alignment.fasta', '../data/train/pssm')"
   ]
  },
  {
   "cell_type": "code",
   "execution_count": 2,
   "metadata": {
    "ExecuteTime": {
     "end_time": "2019-01-30T14:56:41.297443Z",
     "start_time": "2019-01-30T14:36:31.957014Z"
    }
   },
   "outputs": [
    {
     "data": {
      "application/vnd.jupyter.widget-view+json": {
       "model_id": "3767e70589f948b092f84cd7c3025c55",
       "version_major": 2,
       "version_minor": 0
      },
      "text/plain": [
       "HBox(children=(IntProgress(value=0, max=9648), HTML(value='')))"
      ]
     },
     "metadata": {},
     "output_type": "display_data"
    },
    {
     "name": "stdout",
     "output_type": "stream",
     "text": [
      "\n"
     ]
    }
   ],
   "source": [
    "from pathlib import Path\n",
    "import sys\n",
    "\n",
    "from Bio import SeqIO\n",
    "from Bio.SeqRecord import SeqRecord\n",
    "from Bio.Align import MultipleSeqAlignment\n",
    "from tqdm import tqdm_notebook as tqdm\n",
    "\n",
    "sys.path.append(Path().resolve().parent.as_posix())\n",
    "from machina.generate_training_dataset import parse_pssm\n",
    "\n",
    "\n",
    "results = []\n",
    "seq_index = SeqIO.index('../data/train/scop40_structural_alignment.fasta', 'fasta')\n",
    "for record_id in seq_index:\n",
    "    l = record_id.split('&')\n",
    "    results.append(l[0])\n",
    "    results.append(l[1])\n",
    "\n",
    "# Check alignments (20 min)\n",
    "# All length of sequences of a domain must be the same.\n",
    "for domain in tqdm(set(results)):\n",
    "    try:\n",
    "        MultipleSeqAlignment([SeqRecord(seq_index[_].seq.ungap('-'), id=_) for _ in seq_index if _.startswith(f'{domain}&')])\n",
    "    except:\n",
    "        print(domain)\n",
    "\n",
    "# Check PSSM colmn length (20 min)\n",
    "for domain in tqdm(set(results)):\n",
    "    r = seq_index[[_ for _ in seq_index if _.startswith(f'{domain}&')][0]]\n",
    "    len1 = len(r.seq.ungap('-'))\n",
    "    len2 = len(parse_pssm(f'../data/train/pssm/{domain[2:4]}/{domain}.mtx').pssm)\n",
    "    if len1 != len2:\n",
    "        print(domain)"
   ]
  },
  {
   "cell_type": "code",
   "execution_count": 2,
   "metadata": {
    "ExecuteTime": {
     "end_time": "2019-02-05T04:53:51.057282Z",
     "start_time": "2019-02-05T04:50:12.090592Z"
    }
   },
   "outputs": [
    {
     "name": "stderr",
     "output_type": "stream",
     "text": [
      "100%|██████████| 388946/388946 [1:26:54<00:00, 74.59it/s]\n",
      "2019-03-28 01:49:29,710 [INFO] Training data shape=(214388, 201)\n",
      "100%|██████████| 214388/214388 [00:00<00:00, 1011824.51it/s]\n"
     ]
    }
   ],
   "source": [
    "from pathlib import Path\n",
    "import sys\n",
    "import os\n",
    "\n",
    "import numpy as np\n",
    "from IPython.display import display\n",
    "\n",
    "sys.path.append(Path().resolve().parent.as_posix())\n",
    "from machina.generate_training_dataset import create_scop40_dataset, split_data_label\n",
    "\n",
    "masked_ids = np.load('../data/gap_validation_domain_ids.npy').tolist()\n",
    "masked_ids.extend(np.load('../data/hyperparam_validation_domain_ids.npy').tolist())\n",
    "masked_ids.extend(np.load('../data/test_domain_ids.npy').tolist())\n",
    "\n",
    "# 80 min\n",
    "create_scop40_dataset('../data/train/scop40_structural_alignment.fasta',\n",
    "                      '../data/train/pssm', '../data/train/scop40_logscore_tmscore0.5_window5_ratio0.001.npy', 0.001, masked_ids)\n",
    "\n",
    "split_data_label('../data/train/scop40_logscore_tmscore0.5_window5_ratio0.001.npy',\n",
    "                 '../data/train/scop40_logscore_tmscore0.5_window5_ratio0.001_x.npy',\n",
    "                 '../data/train/scop40_logscore_tmscore0.5_window5_ratio0.001_y.npy')"
   ]
  },
  {
   "cell_type": "code",
   "execution_count": 3,
   "metadata": {
    "ExecuteTime": {
     "end_time": "2019-02-05T06:12:38.740111Z",
     "start_time": "2019-02-05T06:12:25.951264Z"
    }
   },
   "outputs": [
    {
     "name": "stderr",
     "output_type": "stream",
     "text": [
      "2019-03-28 10:07:23,265 [INFO] Indexing samples.shape = (214388, 200)...\n",
      "2019-03-28 10:07:24,283 [INFO] Saving index...\n"
     ]
    }
   ],
   "source": [
    "from pathlib import Path\n",
    "import sys\n",
    "\n",
    "import numpy as np\n",
    "\n",
    "sys.path.append(Path().resolve().parent.as_posix())\n",
    "from machina.train import train_flann\n",
    "\n",
    "\n",
    "train_flann(np.load('../data/train/scop40_logscore_tmscore0.5_window5_ratio0.001_x.npy'),\n",
    "            '../data/train/flann19_scop40_logscore_tmscore0.5_window5_ratio0.001')"
   ]
  },
  {
   "cell_type": "markdown",
   "metadata": {},
   "source": [
    "# deprecated"
   ]
  },
  {
   "cell_type": "code",
   "execution_count": null,
   "metadata": {},
   "outputs": [],
   "source": [
    "from Bio import SeqIO\n",
    "import numpy as np\n",
    "\n",
    "scop40_index = SeqIO.index('../data/train/astral-scopdom-seqres-gd-sel-gs-bib-40-1.75.fa', 'fasta')\n",
    "train_ids = np.load('../data/train/scop40_1fold.npy')\n",
    "out = []\n",
    "for t in train_ids:\n",
    "    out.append(scop40_index[t])\n",
    "SeqIO.write(out, 'data/blastdb/astral-scopdom-seqres-gd-sel-gs-bib-40-1.75_train_only.fasta', 'fasta')"
   ]
  },
  {
   "cell_type": "code",
   "execution_count": null,
   "metadata": {
    "ExecuteTime": {
     "end_time": "2018-09-08T16:47:16.158102Z",
     "start_time": "2018-09-08T16:12:15.537980Z"
    }
   },
   "outputs": [],
   "source": [
    "from machina.conv_training_csv2npy import csv2npy_parted, csv2npy\n",
    "\n",
    "\n",
    "csv2npy(200, 'data/train/scop40_logscore_tmscore50_w5')  # Needs > 40GB RAM\n",
    "\n",
    "# csv2npy(360, 'data/train/scop40_tmscore50_w9')  # Needs > 200GB RAM\n",
    "# csv2npy_parted(360, 'data/train/scop40_tmscore50_w9')\n",
    "# csv2npy_parted(360, 'data/train/scop40_tmscore50_w9', n_part=3, n_sample=396540456)"
   ]
  },
  {
   "cell_type": "code",
   "execution_count": 2,
   "metadata": {
    "ExecuteTime": {
     "end_time": "2018-10-17T02:12:55.863820Z",
     "start_time": "2018-10-17T02:02:57.478101Z"
    }
   },
   "outputs": [
    {
     "name": "stdout",
     "output_type": "stream",
     "text": [
      "0.01\n",
      "(2150375, 200)\n",
      "(2150375,)\n",
      "(176007, 1)\n",
      "(1974368, 1)\n",
      "0.1\n",
      "(21503756, 200)\n",
      "(21503756,)\n",
      "(1763022, 1)\n",
      "(19740734, 1)\n"
     ]
    }
   ],
   "source": [
    "import numpy as np\n",
    "\n",
    "from machina.reduce_training_dataset import random_sampling, negative_down_sampling\n",
    "\n",
    "\n",
    "# negative_down_sampling('data/train/scop40_tmscore50_w9', 3)\n",
    "\n",
    "ratio = 0.01\n",
    "print(ratio)\n",
    "random_sampling('data/train/scop40_logscore_tmscore50_w5', ratio)\n",
    "X = np.load(f'data/train/scop40_logscore_tmscore50_w5_randomsampling_ratio{ratio}_x.npy')\n",
    "print(X.shape)\n",
    "Y = np.load(f'data/train/scop40_logscore_tmscore50_w5_randomsampling_ratio{ratio}_y.npy')\n",
    "print(Y.shape)\n",
    "print(np.argwhere(Y == 1).shape)\n",
    "print(np.argwhere(Y == 0).shape)\n",
    "\n",
    "ratio = 0.1\n",
    "print(ratio)\n",
    "random_sampling('data/train/scop40_logscore_tmscore50_w5', ratio)\n",
    "X = np.load(f'data/train/scop40_logscore_tmscore50_w5_randomsampling_ratio{ratio}_x.npy')\n",
    "print(X.shape)\n",
    "Y = np.load(f'data/train/scop40_logscore_tmscore50_w5_randomsampling_ratio{ratio}_y.npy')\n",
    "print(Y.shape)\n",
    "print(np.argwhere(Y == 1).shape)\n",
    "print(np.argwhere(Y == 0).shape)"
   ]
  },
  {
   "cell_type": "code",
   "execution_count": 3,
   "metadata": {
    "ExecuteTime": {
     "end_time": "2018-10-17T02:42:35.667689Z",
     "start_time": "2018-10-17T02:16:11.180207Z"
    }
   },
   "outputs": [
    {
     "data": {
      "application/vnd.jupyter.widget-view+json": {
       "model_id": "9958200171344f3f8b0a536c10e6acc0",
       "version_major": 2,
       "version_minor": 0
      },
      "text/plain": [
       "HBox(children=(IntProgress(value=0, max=14), HTML(value='')))"
      ]
     },
     "metadata": {},
     "output_type": "display_data"
    },
    {
     "name": "stdout",
     "output_type": "stream",
     "text": [
      "\n"
     ]
    },
    {
     "data": {
      "application/vnd.jupyter.widget-view+json": {
       "model_id": "206919f2a5a848db9298ea6ce97b9680",
       "version_major": 2,
       "version_minor": 0
      },
      "text/plain": [
       "HBox(children=(IntProgress(value=0, max=14), HTML(value='')))"
      ]
     },
     "metadata": {},
     "output_type": "display_data"
    },
    {
     "name": "stdout",
     "output_type": "stream",
     "text": [
      "\n"
     ]
    }
   ],
   "source": [
    "from pathlib import Path\n",
    "import pickle\n",
    "\n",
    "from tqdm import tqdm_notebook as tqdm\n",
    "from Bio.SCOP import Scop\n",
    "from Bio import SeqIO\n",
    "import numpy as np\n",
    "\n",
    "from machina.generate_training_dataset import get_validation_data\n",
    "\n",
    "\n",
    "db_index = SeqIO.index('data/train/scop40_structural_alignment.fasta', 'fasta')\n",
    "scop_root = Scop(dir_path=Path('data/scop'), version='1.75')\n",
    "test_data = np.load('data/test/scop40.npy')\n",
    "with Path('data/train/scop40_hie.pkl').open('rb') as f:\n",
    "    hie = pickle.load(f)\n",
    "\n",
    "for t in tqdm(test_data):\n",
    "    Path(f'data/test/{t}').mkdir(exist_ok=True)\n",
    "    query_sf_sunid = scop_root.getDomainBySid(t).getAscendent('sf').sunid\n",
    "    for d in hie[query_sf_sunid]:\n",
    "        x, y = get_validation_data(t, d, db_index, 5, 0)\n",
    "        np.save(f'data/test/{t}/{d}_x.npy', x)\n",
    "        np.save(f'data/test/{t}/{d}_y.npy', y)\n",
    "\n",
    "# Check shapes\n",
    "for t in tqdm(test_data):\n",
    "    query_sf_sunid = scop_root.getDomainBySid(t).getAscendent('sf').sunid\n",
    "    for d in hie[query_sf_sunid]:\n",
    "        x = np.load(f'data/test/{t}/{d}_x.npy')\n",
    "        y = np.load(f'data/test/{t}/{d}_y.npy')\n",
    "        assert x.shape[0] == y.shape[0] * y.shape[1]\n"
   ]
  },
  {
   "cell_type": "code",
   "execution_count": null,
   "metadata": {},
   "outputs": [],
   "source": [
    "from generate_training_dataset import *\n",
    "import itertools\n",
    "\n",
    "from matplotlib import pyplot\n",
    "import numpy as np\n",
    "from IPython.display import display\n",
    "\n",
    "pssm1 = parse_pssm('tests/data/pssm/1dlwa_.mtx')\n",
    "pssm2 = parse_pssm('tests/data/pssm/7hbia_.mtx')\n",
    "msa = parse_alignment('d1dlwa_', 'd7hbia_')\n",
    "\n",
    "rec, win = create_dataset(pssm1, pssm2, msa, Path('/dev/null').open('w'))\n",
    "\n",
    "pyplot.figure(figsize=(len(msa[0].seq.ungap('-'))*0.25, len(msa[1].seq.ungap('-'))*0.25))\n",
    "x, y = [0], [0]\n",
    "for i in range(msa.get_alignment_length()):\n",
    "    pyplot.axes().add_patch(pyplot.Rectangle((x[-1]-WINDOW_CENTER, y[-1]-WINDOW_CENTER),\n",
    "                                             WINDOW_WIDTH, WINDOW_WIDTH,\n",
    "                                             fill=False, color='green', alpha=1.0))\n",
    "    for a, b in itertools.product(range(WINDOW_WIDTH), range(WINDOW_WIDTH)):\n",
    "        if rec[i][a][b] is not None:\n",
    "            pyplot.axes().add_patch(\n",
    "                pyplot.Circle((x[-1]-WINDOW_CENTER+a+0.5, y[-1]-WINDOW_CENTER+b+0.5),\n",
    "                              radius=0.5, alpha=0.2, color='red'))\n",
    "        if win[i][a][b] == 1:\n",
    "            pyplot.axes().add_patch(\n",
    "                pyplot.Circle((x[-1]-WINDOW_CENTER+a+0.5, y[-1]-WINDOW_CENTER+b+0.5),\n",
    "                              radius=0.5, alpha=0.2, color='blue'))\n",
    "    if msa[0][i] == \"-\":\n",
    "        x.append(x[-1])\n",
    "        y.append(y[-1] + 1)\n",
    "    elif msa[1][i] == \"-\":\n",
    "        x.append(x[-1] + 1)\n",
    "        y.append(y[-1])\n",
    "    else:\n",
    "        x.append(x[-1] + 1)\n",
    "        y.append(y[-1] + 1)\n",
    "pyplot.yticks(np.arange(-5, len(msa[1].seq.ungap('-'))+5, 1))\n",
    "pyplot.xticks(np.arange(-5, len(msa[0].seq.ungap('-'))+5, 1))\n",
    "pyplot.grid(color='gray', linestyle='-')\n",
    "pyplot.plot(np.array(x), np.array(y))\n",
    "pyplot.show()"
   ]
  }
 ],
 "metadata": {
  "kernelspec": {
   "display_name": "Python 3",
   "language": "python",
   "name": "python3"
  },
  "language_info": {
   "codemirror_mode": {
    "name": "ipython",
    "version": 3
   },
   "file_extension": ".py",
   "mimetype": "text/x-python",
   "name": "python",
   "nbconvert_exporter": "python",
   "pygments_lexer": "ipython3",
   "version": "3.6.3"
  },
  "toc": {
   "base_numbering": 1,
   "nav_menu": {},
   "number_sections": true,
   "sideBar": true,
   "skip_h1_title": false,
   "title_cell": "Table of Contents",
   "title_sidebar": "Contents",
   "toc_cell": false,
   "toc_position": {},
   "toc_section_display": true,
   "toc_window_display": false
  }
 },
 "nbformat": 4,
 "nbformat_minor": 2
}
