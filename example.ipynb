{
 "cells": [
  {
   "cell_type": "code",
   "execution_count": null,
   "metadata": {
    "ExecuteTime": {
     "end_time": "2018-10-14T07:11:08.261498Z",
     "start_time": "2018-10-14T07:11:05.389221Z"
    }
   },
   "outputs": [],
   "source": [
    "from pathlib import Path\n",
    "import pickle\n",
    "import random\n",
    "from concurrent.futures import ProcessPoolExecutor, wait\n",
    "\n",
    "from Bio.SCOP import Scop\n",
    "import numpy as np\n",
    "\n",
    "from machina.predict import predict_by_kmknc, predict_by_flann\n",
    "\n",
    "\n",
    "def process():\n",
    "    scop_root = Scop(dir_path=Path('data/scop'), version='1.75')\n",
    "    test_data = np.load('data/test/scop40.npy')\n",
    "    with Path('data/train/scop40_hie.pkl').open('rb') as f:\n",
    "        hie = pickle.load(f)\n",
    "    args = []\n",
    "    for query in test_data:\n",
    "        args.extend([(query, _) for _ in hie[scop_root.getDomainBySid(query).getAscendent('sf').sunid]])\n",
    "    random.shuffle(args)\n",
    "    x = np.load('data/train/scop40_logscore_tmscore50_w5_randomsampling_ratio0.1_x.npy')\n",
    "    y = np.load('data/train/scop40_logscore_tmscore50_w5_randomsampling_ratio0.1_y.npy')\n",
    "    predict_by_flann(x, y, 200, 'flann19_scop40_logscore_tmscore50_w5_randomsampling_ratio0.1_nn1000', 1000, args)  # > 23GB\n",
    "\n",
    "\n",
    "workers = 4\n",
    "with ProcessPoolExecutor(max_workers=workers) as executor:\n",
    "    futures = [executor.submit(process) for _ in range(workers)]\n",
    "    wait(futures)\n"
   ]
  },
  {
   "cell_type": "code",
   "execution_count": 10,
   "metadata": {
    "ExecuteTime": {
     "end_time": "2018-10-16T07:45:24.949169Z",
     "start_time": "2018-10-16T06:51:34.966219Z"
    },
    "scrolled": false
   },
   "outputs": [
    {
     "data": {
      "application/vnd.jupyter.widget-view+json": {
       "model_id": "40dfe157f9914294867998fb0e32762c",
       "version_major": 2,
       "version_minor": 0
      },
      "text/plain": [
       "HBox(children=(IntProgress(value=0, max=5), HTML(value='')))"
      ]
     },
     "metadata": {},
     "output_type": "display_data"
    },
    {
     "data": {
      "application/vnd.jupyter.widget-view+json": {
       "model_id": "e3c3ad1c3f714c75b8ca1388d076d3cb",
       "version_major": 2,
       "version_minor": 0
      },
      "text/plain": [
       "HBox(children=(IntProgress(value=0, max=5), HTML(value='')))"
      ]
     },
     "metadata": {},
     "output_type": "display_data"
    },
    {
     "data": {
      "application/vnd.jupyter.widget-view+json": {
       "model_id": "78cfcb458e7846eeb3b68c5e671c6987",
       "version_major": 2,
       "version_minor": 0
      },
      "text/plain": [
       "HBox(children=(IntProgress(value=0, max=5), HTML(value='')))"
      ]
     },
     "metadata": {},
     "output_type": "display_data"
    },
    {
     "data": {
      "application/vnd.jupyter.widget-view+json": {
       "model_id": "57ed8ec76f1040aa9ffbeb4e92c11049",
       "version_major": 2,
       "version_minor": 0
      },
      "text/plain": [
       "HBox(children=(IntProgress(value=0, max=5), HTML(value='')))"
      ]
     },
     "metadata": {},
     "output_type": "display_data"
    },
    {
     "data": {
      "application/vnd.jupyter.widget-view+json": {
       "model_id": "9c5dc5e2d27e47138f22f5cdffade801",
       "version_major": 2,
       "version_minor": 0
      },
      "text/plain": [
       "HBox(children=(IntProgress(value=0, max=5), HTML(value='')))"
      ]
     },
     "metadata": {},
     "output_type": "display_data"
    },
    {
     "data": {
      "application/vnd.jupyter.widget-view+json": {
       "model_id": "0856f9edb12544aaa80d5d122d311cc9",
       "version_major": 2,
       "version_minor": 0
      },
      "text/plain": [
       "HBox(children=(IntProgress(value=0, max=5), HTML(value='')))"
      ]
     },
     "metadata": {},
     "output_type": "display_data"
    },
    {
     "name": "stdout",
     "output_type": "stream",
     "text": [
      "\n"
     ]
    }
   ],
   "source": [
    "from pathlib import Path\n",
    "from multiprocessing import Pool\n",
    "import pickle\n",
    "import random\n",
    "\n",
    "from tqdm import tqdm_notebook as tqdm\n",
    "import numpy as np\n",
    "from Bio.SCOP import Scop\n",
    "\n",
    "from machina.generate_alignment import generate_alignment\n",
    "\n",
    "test_data = np.load('data/test/scop40.npy')\n",
    "scop_root = Scop(dir_path=Path('data/scop'), version='1.75')\n",
    "with Path('data/train/scop40_hie.pkl').open('rb') as f:\n",
    "    hie = pickle.load(f)\n",
    "model_name = 'flann19_scop40_logscore_tmscore50_w5_randomsampling_ratio0.1_nn1000'\n",
    "GAP_OPEN = -0.1\n",
    "GAP_EXTEND = -0.01\n",
    "\n",
    "for query in test_data:\n",
    "    result_dir = Path('results')/model_name\n",
    "    result_file = result_dir/Path(f'{query}_open{-GAP_OPEN}_extend{-GAP_EXTEND}.npy')\n",
    "    if result_file.exists():\n",
    "        continue\n",
    "    result_dir.mkdir(exist_ok=True, parents=True)\n",
    "    query_sf_sunid = scop_root.getDomainBySid(query).getAscendent('sf').sunid\n",
    "    paths = [Path(f'data/prediction/{model_name}/{query}/{domain}.npy') for domain in hie[query_sf_sunid]]\n",
    "    with Pool() as pool:\n",
    "        result = pool.starmap(generate_alignment, ((_, GAP_OPEN, GAP_EXTEND) for _ in paths))\n",
    "    np.save(result_file, np.array(result))"
   ]
  },
  {
   "cell_type": "code",
   "execution_count": null,
   "metadata": {},
   "outputs": [],
   "source": [
    "from pathlib import Path\n",
    "import pickle\n",
    "import os\n",
    "from concurrent.futures import ThreadPoolExecutor,wait\n",
    "\n",
    "from tqdm import tqdm_notebook as tqdm\n",
    "import numpy as np\n",
    "from Bio.SCOP import Scop\n",
    "\n",
    "from machina.generate_models import MachinaModel\n",
    "\n",
    "scop_root = Scop(dir_path=Path('data/scop'), version='1.75')\n",
    "with Path('data/train/scop40_hie.pkl').open('rb') as f:\n",
    "    hie = pickle.load(f)\n",
    "test_data = np.load('data/test/scop40.npy')\n",
    "model_name = 'flann19_scop40_logscore_tmscore50_w5_randomsampling_ratio0.1_nn1000'\n",
    "GAP_OPEN = -0.1\n",
    "GAP_EXTEND = -0.01\n",
    "\n",
    "def _process(args):\n",
    "    for a in args:\n",
    "        MachinaModel().generate_protein_model(a[0], a[1], a[2], a[3])\n",
    "\n",
    "\n",
    "with ThreadPoolExecutor(max_workers=os.cpu_count()) as executor:\n",
    "    futures = []\n",
    "    for query in test_data:\n",
    "        query_sf = scop_root.getDomainBySid(query).getAscendent('sf').sunid\n",
    "        aligns_list = np.load(f'results/{model_name}/{query}_open{-GAP_OPEN}_extend{-GAP_EXTEND}.npy')\n",
    "        args = [(query, _, aligns_list, f'results/{model_name}/open{-GAP_OPEN}extend{-GAP_EXTEND}/{query}') for _ in hie[query_sf]]\n",
    "        futures.append(executor.submit(_process, args))\n",
    "    wait(futures)"
   ]
  }
 ],
 "metadata": {
  "kernelspec": {
   "display_name": "Python 3",
   "language": "python",
   "name": "python3"
  },
  "language_info": {
   "codemirror_mode": {
    "name": "ipython",
    "version": 3
   },
   "file_extension": ".py",
   "mimetype": "text/x-python",
   "name": "python",
   "nbconvert_exporter": "python",
   "pygments_lexer": "ipython3",
   "version": "3.6.3"
  },
  "toc": {
   "base_numbering": 1,
   "nav_menu": {},
   "number_sections": true,
   "sideBar": true,
   "skip_h1_title": false,
   "title_cell": "Table of Contents",
   "title_sidebar": "Contents",
   "toc_cell": false,
   "toc_position": {},
   "toc_section_display": true,
   "toc_window_display": false
  },
  "varInspector": {
   "cols": {
    "lenName": 16,
    "lenType": 16,
    "lenVar": 40
   },
   "kernels_config": {
    "python": {
     "delete_cmd_postfix": "",
     "delete_cmd_prefix": "del ",
     "library": "var_list.py",
     "varRefreshCmd": "print(var_dic_list())"
    },
    "r": {
     "delete_cmd_postfix": ") ",
     "delete_cmd_prefix": "rm(",
     "library": "var_list.r",
     "varRefreshCmd": "cat(var_dic_list()) "
    }
   },
   "types_to_exclude": [
    "module",
    "function",
    "builtin_function_or_method",
    "instance",
    "_Feature"
   ],
   "window_display": false
  }
 },
 "nbformat": 4,
 "nbformat_minor": 2
}
